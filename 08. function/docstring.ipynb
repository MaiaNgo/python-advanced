{
 "cells": [
  {
   "cell_type": "code",
   "execution_count": 1,
   "metadata": {},
   "outputs": [],
   "source": [
    "# When a function is defined, the first string if exists after the def line is considered the docstring"
   ]
  },
  {
   "cell_type": "code",
   "execution_count": 1,
   "metadata": {},
   "outputs": [],
   "source": [
    "def add(a, b):\n",
    "    \"This is a simple function to add two number\"\n",
    "    return a + b"
   ]
  },
  {
   "cell_type": "code",
   "execution_count": 2,
   "metadata": {},
   "outputs": [
    {
     "name": "stdout",
     "output_type": "stream",
     "text": [
      "3\n"
     ]
    }
   ],
   "source": [
    "print(add(1, 2))"
   ]
  },
  {
   "cell_type": "code",
   "execution_count": 3,
   "metadata": {},
   "outputs": [],
   "source": [
    "# notice that it is a string, not a comment that start with #\n",
    "# we normally use multiple-line string for docstring\n",
    "def add(a, b):\n",
    "    '''\n",
    "    This is a simple function to add two numbers\n",
    "\n",
    "    params:\n",
    "    a: a number\n",
    "    b: a number\n",
    "\n",
    "    return:\n",
    "    The sum of a and b\n",
    "    '''\n",
    "    return a + b"
   ]
  },
  {
   "cell_type": "code",
   "execution_count": 4,
   "metadata": {},
   "outputs": [
    {
     "name": "stdout",
     "output_type": "stream",
     "text": [
      "3\n"
     ]
    }
   ],
   "source": [
    "print(add(1, 2))"
   ]
  },
  {
   "cell_type": "code",
   "execution_count": 5,
   "metadata": {},
   "outputs": [
    {
     "name": "stdout",
     "output_type": "stream",
     "text": [
      "\n",
      "    This is a simple function to add two numbers\n",
      "\n",
      "    params:\n",
      "    a: a number\n",
      "    b: a number\n",
      "\n",
      "    return:\n",
      "    The sum of a and b\n",
      "    \n"
     ]
    }
   ],
   "source": [
    "# the docstring is actually store in memrory with the function in the porperty __doc__\n",
    "print(add.__doc__)"
   ]
  },
  {
   "cell_type": "code",
   "execution_count": 6,
   "metadata": {},
   "outputs": [],
   "source": [
    "# Python also support function annotation as an additioal way to document function\n",
    "# this is metadata and does not effect how the function works in any way\n",
    "def add(a: 'a number', b: 'another number') -> 'sum of a and b':\n",
    "    \"\"\"\n",
    "    This is a simple function to add two numbers\n",
    "\n",
    "    params:\n",
    "    a: a number\n",
    "    b: a number\n",
    "\n",
    "    return:\n",
    "    The sum of a and b\n",
    "    \"\"\"\n",
    "    return a + b"
   ]
  },
  {
   "cell_type": "code",
   "execution_count": 7,
   "metadata": {},
   "outputs": [
    {
     "name": "stdout",
     "output_type": "stream",
     "text": [
      "{'a': 'a number', 'b': 'another number', 'return': 'sum of a and b'}\n"
     ]
    }
   ],
   "source": [
    "# the function annotation is also stored with the function in __annotation__ porperty\n",
    "print(add.__annotations__)"
   ]
  },
  {
   "cell_type": "code",
   "execution_count": 9,
   "metadata": {},
   "outputs": [
    {
     "name": "stdout",
     "output_type": "stream",
     "text": [
      "Help on function add in module __main__:\n",
      "\n",
      "add(a:'a number', b:'another number') -> 'sum of a and b'\n",
      "    This is a simple function to add two numbers\n",
      "    \n",
      "    params:\n",
      "    a: a number\n",
      "    b: a number\n",
      "    \n",
      "    return:\n",
      "    The sum of a and b\n",
      "\n"
     ]
    }
   ],
   "source": [
    "# we can use built-in help() function to show docstring and annotation of functions\n",
    "help(add)"
   ]
  },
  {
   "cell_type": "code",
   "execution_count": null,
   "metadata": {},
   "outputs": [],
   "source": []
  }
 ],
 "metadata": {
  "interpreter": {
   "hash": "2e16eb9cf582685a2069fbd1d69b094b0e503fcb31a60a6324e750c4274a81af"
  },
  "kernelspec": {
   "display_name": "Python 3.6.9 64-bit ('learn-env': conda)",
   "language": "python",
   "name": "python3"
  },
  "language_info": {
   "codemirror_mode": {
    "name": "ipython",
    "version": 3
   },
   "file_extension": ".py",
   "mimetype": "text/x-python",
   "name": "python",
   "nbconvert_exporter": "python",
   "pygments_lexer": "ipython3",
   "version": "3.7.4"
  },
  "orig_nbformat": 2
 },
 "nbformat": 4,
 "nbformat_minor": 2
}
