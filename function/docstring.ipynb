{
 "metadata": {
  "language_info": {
   "codemirror_mode": {
    "name": "ipython",
    "version": 3
   },
   "file_extension": ".py",
   "mimetype": "text/x-python",
   "name": "python",
   "nbconvert_exporter": "python",
   "pygments_lexer": "ipython3",
   "version": "3.6.9-final"
  },
  "orig_nbformat": 2,
  "kernelspec": {
   "name": "Python 3.6.9 64-bit ('learn-env': conda)",
   "display_name": "Python 3.6.9 64-bit ('learn-env': conda)",
   "metadata": {
    "interpreter": {
     "hash": "7981d81b3924aa8f8737ad1f515d2c1560025393c5e8fb9a51b730ca6a994a8e"
    }
   }
  }
 },
 "nbformat": 4,
 "nbformat_minor": 2,
 "cells": [
  {
   "cell_type": "code",
   "execution_count": 1,
   "metadata": {},
   "outputs": [],
   "source": [
    "# When a function is defined, the first string if exists after the def line is considered the docstring"
   ]
  },
  {
   "cell_type": "code",
   "execution_count": 2,
   "metadata": {},
   "outputs": [],
   "source": [
    "def add(a, b):\n",
    "    \"This is a simple function to add two number\"\n",
    "    return a + b"
   ]
  },
  {
   "cell_type": "code",
   "execution_count": 3,
   "metadata": {},
   "outputs": [
    {
     "output_type": "stream",
     "name": "stdout",
     "text": [
      "3\n"
     ]
    }
   ],
   "source": [
    "print(add(1, 2))"
   ]
  },
  {
   "cell_type": "code",
   "execution_count": 4,
   "metadata": {},
   "outputs": [],
   "source": [
    "# notice that it is a string, not a comment that start with #\n",
    "# we normally use multiple-line string for docstring\n",
    "def add(a, b):\n",
    "    '''\n",
    "    This is a simple function to add two numbers\n",
    "\n",
    "    params:\n",
    "    a: a number\n",
    "    b: a number\n",
    "\n",
    "    return:\n",
    "    The sum of a and b\n",
    "    '''\n",
    "    return a + b"
   ]
  },
  {
   "cell_type": "code",
   "execution_count": 5,
   "metadata": {},
   "outputs": [
    {
     "output_type": "stream",
     "name": "stdout",
     "text": [
      "3\n"
     ]
    }
   ],
   "source": [
    "print(add(1, 2))"
   ]
  },
  {
   "cell_type": "code",
   "execution_count": 6,
   "metadata": {},
   "outputs": [
    {
     "output_type": "stream",
     "name": "stdout",
     "text": [
      "\n    This is a simple function to add two numbers\n\n    params:\n    a: a number\n    b: a number\n\n    return:\n    The sum of a and b\n    \n"
     ]
    }
   ],
   "source": [
    "# the docstring is actually store in memrory with the function in the porperty __doc__\n",
    "print(add.__doc__)"
   ]
  },
  {
   "cell_type": "code",
   "execution_count": 7,
   "metadata": {},
   "outputs": [],
   "source": [
    "# Python also support function annotation as an additioal way to document function\n",
    "# this is metadata and does not effect how the function works in any way\n",
    "def add(a: 'a number', b: 'another number') -> 'sum of a and b':\n",
    "    \"\"\"\n",
    "    This is a simple function to add two numbers\n",
    "\n",
    "    params:\n",
    "    a: a number\n",
    "    b: a number\n",
    "\n",
    "    return:\n",
    "    The sum of a and b\n",
    "    \"\"\"\n",
    "    return a + b"
   ]
  },
  {
   "cell_type": "code",
   "execution_count": 8,
   "metadata": {},
   "outputs": [
    {
     "output_type": "stream",
     "name": "stdout",
     "text": [
      "{'a': 'a number', 'b': 'another number', 'return': 'sum of a and b'}\n"
     ]
    }
   ],
   "source": [
    "# the function annotation is also stored with the function in __annotation__ porperty\n",
    "print(add.__annotations__)"
   ]
  },
  {
   "cell_type": "code",
   "execution_count": 9,
   "metadata": {},
   "outputs": [
    {
     "output_type": "stream",
     "name": "stdout",
     "text": [
      "Help on function add in module __main__:\n\nadd(a:'a number', b:'another number') -> 'sum of a and b'\n    This is a simple function to add two numbers\n    \n    params:\n    a: a number\n    b: a number\n    \n    return:\n    The sum of a and b\n\n"
     ]
    }
   ],
   "source": [
    "# we can use built-in help() function to show docstring and annotation of functions\n",
    "help(add)"
   ]
  },
  {
   "cell_type": "code",
   "execution_count": null,
   "metadata": {},
   "outputs": [],
   "source": []
  }
 ]
}