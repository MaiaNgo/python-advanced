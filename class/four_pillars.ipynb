{
 "metadata": {
  "language_info": {
   "codemirror_mode": {
    "name": "ipython",
    "version": 3
   },
   "file_extension": ".py",
   "mimetype": "text/x-python",
   "name": "python",
   "nbconvert_exporter": "python",
   "pygments_lexer": "ipython3",
   "version": "3.6.9-final"
  },
  "orig_nbformat": 2,
  "kernelspec": {
   "name": "python3",
   "display_name": "Python 3.6.9 64-bit ('learn-env': conda)",
   "metadata": {
    "interpreter": {
     "hash": "7981d81b3924aa8f8737ad1f515d2c1560025393c5e8fb9a51b730ca6a994a8e"
    }
   }
  }
 },
 "nbformat": 4,
 "nbformat_minor": 2,
 "cells": [
  {
   "source": [
    "## 4 Pillars of OOP"
   ],
   "cell_type": "markdown",
   "metadata": {}
  },
  {
   "cell_type": "code",
   "execution_count": 1,
   "metadata": {},
   "outputs": [],
   "source": [
    "# Encapsulation"
   ]
  },
  {
   "cell_type": "code",
   "execution_count": 4,
   "metadata": {},
   "outputs": [],
   "source": [
    "# a simple class to explain Encapsulation\n",
    "class Human():\n",
    "    _name = None\n",
    "    _age = 0\n",
    "\n",
    "    def __init__(self, name, age):\n",
    "        self._name = name\n",
    "        self._age = age\n",
    "\n",
    "    def greet(self, name):\n",
    "        print(f'Hello {name}. My name is {self._name}. Nice to meet you!')"
   ]
  },
  {
   "cell_type": "code",
   "execution_count": 3,
   "metadata": {},
   "outputs": [],
   "source": [
    "# The meaning of Encapsulation here is the intenal data (_name, _age) and the behavior or method (greet()) are ecapsulated and organized together inside the Human class.\n",
    "# They are tied together and have meaning together"
   ]
  },
  {
   "cell_type": "code",
   "execution_count": 5,
   "metadata": {},
   "outputs": [
    {
     "output_type": "stream",
     "name": "stdout",
     "text": [
      "Hello Maia. My name is Ryan. Nice to meet you!\n"
     ]
    }
   ],
   "source": [
    "human1 = Human('Ryan', 13)\n",
    "human1.greet('Maia')"
   ]
  },
  {
   "cell_type": "code",
   "execution_count": 7,
   "metadata": {},
   "outputs": [
    {
     "output_type": "execute_result",
     "data": {
      "text/plain": [
       "'Ryan'"
      ]
     },
     "metadata": {},
     "execution_count": 7
    }
   ],
   "source": [
    "human1._name"
   ]
  },
  {
   "cell_type": "code",
   "execution_count": 8,
   "metadata": {},
   "outputs": [],
   "source": [
    "# Abstraction\n",
    "# means a class implement a functionality and hide the detail implmentation, but only expose the interface for users to use that functionality.\n",
    "# Users never need to know the detail inside implemenation to be able to use the class\n",
    "# For example, a laptop is extremmely complciated to build, but it expose the interface (screen, keyboard, mouse) for users to use it.\n",
    "# Users never need to know how a laptop is built to be able to use it "
   ]
  },
  {
   "cell_type": "code",
   "execution_count": 9,
   "metadata": {},
   "outputs": [],
   "source": [
    "# simple class to explain Abstraction\n",
    "class DeliveryRobot():\n",
    "    _model = None\n",
    "\n",
    "    def __init__(self, model):\n",
    "        self._model = model\n",
    "\n",
    "    def deliver(self, package, address):\n",
    "        # locate package\n",
    "\n",
    "        # pick package\n",
    "\n",
    "        # locate the delivery address\n",
    "\n",
    "        # fly from warehouse to the address\n",
    "\n",
    "        # drop the package\n",
    "\n",
    "        print(f'Package {package} is successfully delivered to address {address}')\n"
   ]
  },
  {
   "cell_type": "code",
   "execution_count": 12,
   "metadata": {},
   "outputs": [
    {
     "output_type": "stream",
     "name": "stdout",
     "text": [
      "Package TV is successfully delivered to address New York\n"
     ]
    }
   ],
   "source": [
    "# A user of the DeliveryRobot class do NOT need to know the detail inside of the robot\n",
    "# just need to instantiate an Robot object and simply call \"deliver()\" method\n",
    "robot1 = DeliveryRobot('Model 1')\n",
    "robot1.deliver('TV', \"New York\")"
   ]
  },
  {
   "cell_type": "code",
   "execution_count": 14,
   "metadata": {},
   "outputs": [],
   "source": [
    "# Inheritance\n",
    "# means a class can inherit from other classes to reuse the code have been written.\n",
    "# This also means to avoid code duplication"
   ]
  },
  {
   "cell_type": "code",
   "execution_count": 15,
   "metadata": {},
   "outputs": [],
   "source": [
    "# Simple class to explain Inheritance\n",
    "class Student(Human):\n",
    "    pass"
   ]
  },
  {
   "cell_type": "code",
   "execution_count": 16,
   "metadata": {},
   "outputs": [],
   "source": [
    "# We did not define any attrubutes or method for Student class\n",
    "# But because Student is inheritted from Human, so it should already inherit the attributes and methods from Human"
   ]
  },
  {
   "cell_type": "code",
   "execution_count": 17,
   "metadata": {},
   "outputs": [
    {
     "output_type": "stream",
     "name": "stdout",
     "text": [
      "Hello Myra. My name is Maia. Nice to meet you!\n"
     ]
    }
   ],
   "source": [
    "student1 = Student('Maia', 40)\n",
    "student1.greet('Myra')"
   ]
  },
  {
   "cell_type": "code",
   "execution_count": 27,
   "metadata": {},
   "outputs": [],
   "source": [
    "# Normally a class inherit the classes and extend the functionalities \n",
    "class Student(Human):\n",
    "    _student_id = None\n",
    "    _grade = None\n",
    "\n",
    "    def __init__(self, name, age, student_id, grade):\n",
    "        super().__init__(name, age)\n",
    "        self._student_id = student_id\n",
    "        self._grade = grade\n",
    "\n",
    "    def study(self, course):\n",
    "        print(f'I am studying {course}')"
   ]
  },
  {
   "cell_type": "code",
   "execution_count": 29,
   "metadata": {},
   "outputs": [],
   "source": [
    "student2 = Student('Arby', 9, '12345', 4)"
   ]
  },
  {
   "cell_type": "code",
   "execution_count": 30,
   "metadata": {},
   "outputs": [
    {
     "output_type": "stream",
     "name": "stdout",
     "text": [
      "Hello Maia. My name is Arby. Nice to meet you!\n"
     ]
    }
   ],
   "source": [
    "student2.greet('Maia')"
   ]
  },
  {
   "cell_type": "code",
   "execution_count": 31,
   "metadata": {},
   "outputs": [
    {
     "output_type": "stream",
     "name": "stdout",
     "text": [
      "I am studying Python\n"
     ]
    }
   ],
   "source": [
    "student2.study('Python')"
   ]
  },
  {
   "cell_type": "code",
   "execution_count": 32,
   "metadata": {},
   "outputs": [
    {
     "output_type": "error",
     "ename": "AttributeError",
     "evalue": "'Human' object has no attribute 'study'",
     "traceback": [
      "\u001b[0;31m---------------------------------------------------------------------------\u001b[0m",
      "\u001b[0;31mAttributeError\u001b[0m                            Traceback (most recent call last)",
      "\u001b[0;32m<ipython-input-32-849358a0760b>\u001b[0m in \u001b[0;36m<module>\u001b[0;34m\u001b[0m\n\u001b[1;32m      1\u001b[0m \u001b[0mhuman2\u001b[0m \u001b[0;34m=\u001b[0m \u001b[0mHuman\u001b[0m\u001b[0;34m(\u001b[0m\u001b[0;34m'ABC'\u001b[0m\u001b[0;34m,\u001b[0m \u001b[0;36m1\u001b[0m\u001b[0;34m)\u001b[0m\u001b[0;34m\u001b[0m\u001b[0;34m\u001b[0m\u001b[0m\n\u001b[0;32m----> 2\u001b[0;31m \u001b[0mhuman2\u001b[0m\u001b[0;34m.\u001b[0m\u001b[0mstudy\u001b[0m\u001b[0;34m(\u001b[0m\u001b[0;34m'Math'\u001b[0m\u001b[0;34m)\u001b[0m\u001b[0;34m\u001b[0m\u001b[0;34m\u001b[0m\u001b[0m\n\u001b[0m",
      "\u001b[0;31mAttributeError\u001b[0m: 'Human' object has no attribute 'study'"
     ]
    }
   ],
   "source": [
    "human2 = Human('ABC', 1)\n",
    "human2.study('Math')"
   ]
  },
  {
   "cell_type": "code",
   "execution_count": 34,
   "metadata": {},
   "outputs": [],
   "source": [
    "# Indirect inheritance or multi-level inheritance\n",
    "# means when a class inherits from a class, it actually also inherits attributes and methods of all ancesters of that classs too\n",
    "class CollegeStudent(Student):\n",
    "    _college = None\n",
    "    _major = None\n",
    "\n",
    "    def __init__(self, name, age, student_id, grade, college, major):\n",
    "        super().__init__(name, age, student_id, grade)\n",
    "        self._college = college\n",
    "        self._major = major\n",
    "\n",
    "    def work_part_time(self):\n",
    "        print('I am a college student. I can work part-time')\n",
    "\n",
    "    def research(self, topic):\n",
    "        print(f'I study in major {self._major}. I am researching about {topic}')"
   ]
  },
  {
   "cell_type": "code",
   "execution_count": 35,
   "metadata": {},
   "outputs": [],
   "source": [
    "student4 = CollegeStudent('Ryan', 17, '123', 'Excellent', 'Harvard', 'Computer')"
   ]
  },
  {
   "cell_type": "code",
   "execution_count": 36,
   "metadata": {},
   "outputs": [
    {
     "output_type": "stream",
     "name": "stdout",
     "text": [
      "Hello Mom. My name is Ryan. Nice to meet you!\n"
     ]
    }
   ],
   "source": [
    "student4.greet('Mom')"
   ]
  },
  {
   "cell_type": "code",
   "execution_count": 37,
   "metadata": {},
   "outputs": [
    {
     "output_type": "stream",
     "name": "stdout",
     "text": [
      "I am studying Conputer\n"
     ]
    }
   ],
   "source": [
    "student4.study('Conputer')"
   ]
  },
  {
   "cell_type": "code",
   "execution_count": 38,
   "metadata": {},
   "outputs": [
    {
     "output_type": "stream",
     "name": "stdout",
     "text": [
      "I study in major Computer. I am researching about Database\n"
     ]
    }
   ],
   "source": [
    "student4.research('Database')"
   ]
  },
  {
   "cell_type": "code",
   "execution_count": 39,
   "metadata": {},
   "outputs": [],
   "source": [
    "# Multi Inheritance or Multiple Inheritance\n",
    "# means a class can inherits multiple classes at the same time, this is different with multiple-level inheritance, a.k.a. indirect inheritance\n",
    "class Driver(Human):\n",
    "    _driver_id = None\n",
    "\n",
    "    def __init__(self, name, age, driver_id):\n",
    "        super().__init__(name, age)\n",
    "        self._driver_id = driver_id\n",
    "\n",
    "    def drive(self):\n",
    "        print(f'I can drive. My driver license is {self._driver_id}. Zoom zoooom.')"
   ]
  },
  {
   "cell_type": "code",
   "execution_count": 52,
   "metadata": {},
   "outputs": [],
   "source": [
    "# Now, we can create a simple class to explain Multi-inheritance\n",
    "class Graduate(CollegeStudent, Driver):\n",
    "    _certificate_id = None\n",
    "\n",
    "    def __init__(self, name, certicate_id, driver_id):\n",
    "        self._name = name\n",
    "        self._certificate_id = certicate_id\n",
    "        self._driver_id = driver_id\n",
    "\n",
    "    def seek_job(self):\n",
    "        print(f'I am a Graduate. My Certificate is {self._certificate_id}. I can drive too.')\n",
    "        print('I am seeking for a good job.')"
   ]
  },
  {
   "cell_type": "code",
   "execution_count": 54,
   "metadata": {},
   "outputs": [],
   "source": [
    "graduate1 = Graduate('Maia', 'Certificate - 111', 'Driver ID - 123')"
   ]
  },
  {
   "cell_type": "code",
   "execution_count": 55,
   "metadata": {},
   "outputs": [
    {
     "output_type": "stream",
     "name": "stdout",
     "text": [
      "I can drive. My driver license is Driver ID - 123. Zoom zoooom.\n"
     ]
    }
   ],
   "source": [
    "graduate1.drive()"
   ]
  },
  {
   "cell_type": "code",
   "execution_count": 56,
   "metadata": {},
   "outputs": [
    {
     "output_type": "stream",
     "name": "stdout",
     "text": [
      "I study in major None. I am researching about Math\n"
     ]
    }
   ],
   "source": [
    "graduate1.research('Math')"
   ]
  },
  {
   "cell_type": "code",
   "execution_count": 57,
   "metadata": {},
   "outputs": [
    {
     "output_type": "stream",
     "name": "stdout",
     "text": [
      "I am a Graduate. My Certificate is Certificate - 111. I can drive too.\nI am seeking for a good job.\n"
     ]
    }
   ],
   "source": [
    "graduate1.seek_job()"
   ]
  },
  {
   "cell_type": "code",
   "execution_count": null,
   "metadata": {},
   "outputs": [],
   "source": []
  }
 ]
}