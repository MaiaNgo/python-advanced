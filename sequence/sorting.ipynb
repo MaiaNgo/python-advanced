{
 "metadata": {
  "language_info": {
   "codemirror_mode": {
    "name": "ipython",
    "version": 3
   },
   "file_extension": ".py",
   "mimetype": "text/x-python",
   "name": "python",
   "nbconvert_exporter": "python",
   "pygments_lexer": "ipython3",
   "version": "3.6.9-final"
  },
  "orig_nbformat": 2,
  "kernelspec": {
   "name": "Python 3.6.9 64-bit ('learn-env': conda)",
   "display_name": "Python 3.6.9 64-bit ('learn-env': conda)",
   "metadata": {
    "interpreter": {
     "hash": "7981d81b3924aa8f8737ad1f515d2c1560025393c5e8fb9a51b730ca6a994a8e"
    }
   }
  }
 },
 "nbformat": 4,
 "nbformat_minor": 2,
 "cells": [
  {
   "cell_type": "code",
   "execution_count": 2,
   "metadata": {},
   "outputs": [
    {
     "output_type": "execute_result",
     "data": {
      "text/plain": [
       "[1, 2, 3, 4, 5, 6, 7]"
      ]
     },
     "metadata": {},
     "execution_count": 2
    }
   ],
   "source": [
    "# sorting can be done in-place or not in-place\n",
    "l = [1, 3, 2, 4, 7, 5, 6]\n",
    "l.sort()\n",
    "l"
   ]
  },
  {
   "cell_type": "code",
   "execution_count": 3,
   "metadata": {},
   "outputs": [
    {
     "output_type": "execute_result",
     "data": {
      "text/plain": [
       "[1, 2, 3, 4, 5, 6, 7]"
      ]
     },
     "metadata": {},
     "execution_count": 3
    }
   ],
   "source": [
    "# now we see the l itself in changed\n",
    "l"
   ]
  },
  {
   "cell_type": "code",
   "execution_count": 4,
   "metadata": {},
   "outputs": [
    {
     "output_type": "stream",
     "name": "stdout",
     "text": [
      "[1, 3, 2, 4, 7, 5, 6]\n[1, 2, 3, 4, 5, 6, 7]\n"
     ]
    }
   ],
   "source": [
    "# we can use the sorted() function to sort out-place\n",
    "l = [1, 3, 2, 4, 7, 5, 6]\n",
    "l1 = sorted(l)\n",
    "print(l)\n",
    "print(l1)"
   ]
  },
  {
   "cell_type": "code",
   "execution_count": 5,
   "metadata": {},
   "outputs": [
    {
     "output_type": "execute_result",
     "data": {
      "text/plain": [
       "[(0, 0), (0, 1), (1, 0), (1, 2), (1, 3), (2, 1), (3, 2)]"
      ]
     },
     "metadata": {},
     "execution_count": 5
    }
   ],
   "source": [
    "# it;s obvious when we sort numeric data like above\n",
    "# how about string, tuples, and other data\n",
    "# actually when we sort a sequence we actually sort by each item's sort key\n",
    "# the sort key of numberic data is of course the mumeric value itself\n",
    "# the string data will use code of the chars\n",
    "# for any custom data/object we can provide the sort key to the sorted() function\n",
    "\n",
    "# for example, let sort a list of tuple which reprsent points in a 2D space\n",
    "l = [(0, 0), (0, 1), (1, 0), (1, 2), (1, 3), (2, 1), (3, 2)]\n",
    "l.sort()\n",
    "l"
   ]
  },
  {
   "cell_type": "code",
   "execution_count": 6,
   "metadata": {},
   "outputs": [
    {
     "output_type": "execute_result",
     "data": {
      "text/plain": [
       "[(0, 0), (0, 1), (1, 0), (1, 2), (1, 3), (2, 1), (3, 2)]"
      ]
     },
     "metadata": {},
     "execution_count": 6
    }
   ],
   "source": [
    "l = [(0, 1), (1, 0), (1, 2), (0, 0), (1, 3), (2, 1), (3, 2)]\n",
    "l.sort()\n",
    "l"
   ]
  },
  {
   "cell_type": "code",
   "execution_count": 7,
   "metadata": {},
   "outputs": [
    {
     "output_type": "execute_result",
     "data": {
      "text/plain": [
       "[(0, 0),\n",
       " (0, 1),\n",
       " (1, 0),\n",
       " (1, 1),\n",
       " (1, 2),\n",
       " (1, 3),\n",
       " (2, 1),\n",
       " (2, 2),\n",
       " (2, 3),\n",
       " (3, 2),\n",
       " (3, 3)]"
      ]
     },
     "metadata": {},
     "execution_count": 7
    }
   ],
   "source": [
    "# looks like by defaut the sorted() function use the sort key as comparing individual item in the tuple with place value from left to right (bigger to smaller place value). For example (1, 0) is bigger than (0, 1)\n",
    "# How's about we want to sort with sort key is sum of items in tuple\n",
    "l = [(0, 1), (1, 0), (1, 2), (3, 3), (2, 3), (1, 1), (0, 0), (2, 2), (1, 3), (2, 1), (3, 2)]\n",
    "l1 = sorted(l)\n",
    "l1\n"
   ]
  },
  {
   "cell_type": "code",
   "execution_count": 9,
   "metadata": {},
   "outputs": [
    {
     "output_type": "execute_result",
     "data": {
      "text/plain": [
       "[(0, 0),\n",
       " (0, 1),\n",
       " (1, 0),\n",
       " (1, 1),\n",
       " (1, 2),\n",
       " (2, 1),\n",
       " (2, 2),\n",
       " (1, 3),\n",
       " (2, 3),\n",
       " (3, 2),\n",
       " (3, 3)]"
      ]
     },
     "metadata": {},
     "execution_count": 9
    }
   ],
   "source": [
    "# that's NOT what we want, we need to provide sort key as sum of item\n",
    "# notice the (1, 3) is smaller than (2, 1)\n",
    "l = [(0, 1), (1, 0), (1, 2), (3, 3), (2, 3), (1, 1), (0, 0), (2, 2), (1, 3), (2, 1), (3, 2)]\n",
    "l2 = sorted(l, key=lambda t : sum(t))\n",
    "l2"
   ]
  },
  {
   "cell_type": "code",
   "execution_count": null,
   "metadata": {},
   "outputs": [],
   "source": []
  }
 ]
}