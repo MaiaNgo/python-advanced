{
 "cells": [
  {
   "cell_type": "markdown",
   "metadata": {},
   "source": [
    "## Closure"
   ]
  },
  {
   "cell_type": "code",
   "execution_count": 1,
   "metadata": {},
   "outputs": [],
   "source": [
    "# to understand closure we must understand scope \n",
    "# let's define a simple nested function\n",
    "def greet():\n",
    "    name = 'World!'\n",
    "\n",
    "    def sayHello():\n",
    "        print(f'Hello {name}')\n",
    "\n",
    "    # first call\n",
    "    sayHello()\n",
    "\n",
    "    # second call after change variable value\n",
    "    name = 'Ryan'\n",
    "    sayHello()\n",
    "\n",
    "    # third call after change variable value again\n",
    "    name = 'Maia'\n",
    "    sayHello()\n",
    "\n",
    "    return sayHello    "
   ]
  },
  {
   "cell_type": "code",
   "execution_count": 2,
   "metadata": {},
   "outputs": [
    {
     "name": "stdout",
     "output_type": "stream",
     "text": [
      "Hello World!\n",
      "Hello Ryan\n",
      "Hello Maia\n"
     ]
    }
   ],
   "source": [
    "fn = greet()"
   ]
  },
  {
   "cell_type": "code",
   "execution_count": 3,
   "metadata": {},
   "outputs": [
    {
     "name": "stdout",
     "output_type": "stream",
     "text": [
      "Hello Maia\n"
     ]
    }
   ],
   "source": [
    "# now the greet() function call has done, all its local variables are gone\n",
    "# what happens if we can fn()\n",
    "fn()"
   ]
  },
  {
   "cell_type": "code",
   "execution_count": 8,
   "metadata": {},
   "outputs": [],
   "source": [
    "# how fn() still remember the last value of variable 'name'?\n",
    "\n",
    "# it is because when greet() function returned the function sayHello(), it actually returned a closure, not just the function only\n",
    "# So, what is closure?\n",
    "# Closure is a function plus an extended scopre that contains free variables the function refer to\n",
    "# In this case, the closure contains the sayHello() function plus variable 'name' "
   ]
  }
 ],
 "metadata": {
  "kernelspec": {
   "display_name": "Python 3.6.9 64-bit ('learn-env': conda)",
   "metadata": {
    "interpreter": {
     "hash": "7981d81b3924aa8f8737ad1f515d2c1560025393c5e8fb9a51b730ca6a994a8e"
    }
   },
   "name": "python3"
  },
  "language_info": {
   "codemirror_mode": {
    "name": "ipython",
    "version": 3
   },
   "file_extension": ".py",
   "mimetype": "text/x-python",
   "name": "python",
   "nbconvert_exporter": "python",
   "pygments_lexer": "ipython3",
   "version": "3.7.4"
  },
  "orig_nbformat": 2
 },
 "nbformat": 4,
 "nbformat_minor": 2
}
