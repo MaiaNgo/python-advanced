{
 "metadata": {
  "language_info": {
   "codemirror_mode": {
    "name": "ipython",
    "version": 3
   },
   "file_extension": ".py",
   "mimetype": "text/x-python",
   "name": "python",
   "nbconvert_exporter": "python",
   "pygments_lexer": "ipython3",
   "version": "3.6.9-final"
  },
  "orig_nbformat": 2,
  "kernelspec": {
   "name": "Python 3.6.9 64-bit ('learn-env': conda)",
   "display_name": "Python 3.6.9 64-bit ('learn-env': conda)",
   "metadata": {
    "interpreter": {
     "hash": "7981d81b3924aa8f8737ad1f515d2c1560025393c5e8fb9a51b730ca6a994a8e"
    }
   }
  }
 },
 "nbformat": 4,
 "nbformat_minor": 2,
 "cells": [
  {
   "cell_type": "code",
   "execution_count": 1,
   "metadata": {},
   "outputs": [
    {
     "output_type": "stream",
     "name": "stdout",
     "text": [
      "Hello 140657232011984\nBefore:  Hello 140657232011984\nAfter:  HELLO 140657227002296\nHello 140657232011984\n"
     ]
    }
   ],
   "source": [
    "# we will examine the effect of mutability on the function arguments\n",
    "a = 'Hello'\n",
    "def to_upper(s):\n",
    "    print('Before: ', s, id(s))\n",
    "    s = s.upper()\n",
    "    print('After: ', s, id(s))\n",
    "\n",
    "print(a, id(a))\n",
    "to_upper(a)\n",
    "print(a, id(a))"
   ]
  },
  {
   "cell_type": "code",
   "execution_count": 2,
   "metadata": {},
   "outputs": [],
   "source": [
    "# We notice that the argument s originally points to same object as a\n",
    "# but after we change s to new value, Python create a new object and point s to it\n",
    "# while the variable a is still the same before and after calling to the func"
   ]
  },
  {
   "cell_type": "code",
   "execution_count": 4,
   "metadata": {},
   "outputs": [
    {
     "output_type": "stream",
     "name": "stdout",
     "text": [
      "([1, 2, 3], 'Hello', ['a', 'b']) 140657230201264\nBefore:  ([1, 2, 3], 'Hello', ['a', 'b']) 140657230201264\nAfter:  ([1, 2, 3, 4], 'Hello', ['a', 'b', 'c']) 140657230201264\n([1, 2, 3, 4], 'Hello', ['a', 'b', 'c']) 140657230201264\n"
     ]
    }
   ],
   "source": [
    "# now we look at a more intesting case with a tuple\n",
    "# we know tuple is an immutable object\n",
    "x = ([1, 2, 3], 'Hello', ['a', 'b'])\n",
    "def change(t):\n",
    "    print('Before: ', t, id(t))\n",
    "    t[0].append(4)\n",
    "    t[1].upper()\n",
    "    t[2].append('c')\n",
    "    print('After: ', t, id(t))\n",
    "\n",
    "print(x, id(x))\n",
    "change(x)\n",
    "print(x, id(x))"
   ]
  },
  {
   "cell_type": "code",
   "execution_count": 5,
   "metadata": {},
   "outputs": [],
   "source": [
    "# we the memory address of the tuple x and argument are always the same\n",
    "# The content of the tuple has change because some of its element has changed\n",
    "# Notice that the second element of the tuple is the string 'Hello' still the same even after we try to change it (because string is immutable)"
   ]
  },
  {
   "cell_type": "code",
   "execution_count": null,
   "metadata": {},
   "outputs": [],
   "source": []
  }
 ]
}