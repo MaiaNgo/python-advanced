{
 "metadata": {
  "language_info": {
   "codemirror_mode": {
    "name": "ipython",
    "version": 3
   },
   "file_extension": ".py",
   "mimetype": "text/x-python",
   "name": "python",
   "nbconvert_exporter": "python",
   "pygments_lexer": "ipython3",
   "version": "3.6.9-final"
  },
  "orig_nbformat": 2,
  "kernelspec": {
   "name": "Python 3.6.9 64-bit ('learn-env': conda)",
   "display_name": "Python 3.6.9 64-bit ('learn-env': conda)",
   "metadata": {
    "interpreter": {
     "hash": "7981d81b3924aa8f8737ad1f515d2c1560025393c5e8fb9a51b730ca6a994a8e"
    }
   }
  }
 },
 "nbformat": 4,
 "nbformat_minor": 2,
 "cells": [
  {
   "cell_type": "code",
   "execution_count": 7,
   "metadata": {},
   "outputs": [],
   "source": [
    "# similar to unpacking positional param in function using *args\n",
    "# we can use ** to unpack dynamic keyword params when define a function\n",
    "def func1(**kwargs):\n",
    "    for k, v in kwargs.items():\n",
    "        print(k, v)"
   ]
  },
  {
   "cell_type": "code",
   "execution_count": 8,
   "metadata": {},
   "outputs": [
    {
     "output_type": "stream",
     "name": "stdout",
     "text": [
      "apple 1\npear 2\nbanana 3\n"
     ]
    }
   ],
   "source": [
    "# we can call like this\n",
    "func1(apple=1, pear=2, banana=3)"
   ]
  },
  {
   "cell_type": "code",
   "execution_count": 9,
   "metadata": {},
   "outputs": [],
   "source": [
    "func1()"
   ]
  },
  {
   "cell_type": "code",
   "execution_count": 11,
   "metadata": {},
   "outputs": [],
   "source": [
    "# we can combime positional params with dynamic keyword params\n",
    "def func2(a, b, **kwargs):\n",
    "    print(a, b)\n",
    "    for k, v in kwargs.items():\n",
    "        print(k, v)"
   ]
  },
  {
   "cell_type": "code",
   "execution_count": 12,
   "metadata": {},
   "outputs": [
    {
     "output_type": "stream",
     "name": "stdout",
     "text": [
      "1 2\napple 3\nbanana 4\n"
     ]
    }
   ],
   "source": [
    "func2(1, 2, apple=3, banana=4)"
   ]
  },
  {
   "cell_type": "code",
   "execution_count": null,
   "metadata": {},
   "outputs": [],
   "source": []
  }
 ]
}