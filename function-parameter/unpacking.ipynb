{
 "metadata": {
  "language_info": {
   "codemirror_mode": {
    "name": "ipython",
    "version": 3
   },
   "file_extension": ".py",
   "mimetype": "text/x-python",
   "name": "python",
   "nbconvert_exporter": "python",
   "pygments_lexer": "ipython3",
   "version": "3.6.9-final"
  },
  "orig_nbformat": 2,
  "kernelspec": {
   "name": "Python 3.6.9 64-bit ('learn-env': conda)",
   "display_name": "Python 3.6.9 64-bit ('learn-env': conda)",
   "metadata": {
    "interpreter": {
     "hash": "7981d81b3924aa8f8737ad1f515d2c1560025393c5e8fb9a51b730ca6a994a8e"
    }
   }
  }
 },
 "nbformat": 4,
 "nbformat_minor": 2,
 "cells": [
  {
   "cell_type": "code",
   "execution_count": 1,
   "metadata": {},
   "outputs": [
    {
     "output_type": "stream",
     "name": "stdout",
     "text": [
      "<class 'tuple'>\n<class 'tuple'>\n"
     ]
    }
   ],
   "source": [
    "# little note about tuple: \n",
    "# what makes a tuple is not the (), but the ,\n",
    "a = (1, 2, 3)\n",
    "print(type(a))\n",
    "\n",
    "b = 1, 2, 3\n",
    "print(type(b))"
   ]
  },
  {
   "cell_type": "code",
   "execution_count": 2,
   "metadata": {},
   "outputs": [
    {
     "output_type": "stream",
     "name": "stdout",
     "text": [
      "1 2 3\n"
     ]
    }
   ],
   "source": [
    "# sometimes we see parallel assignment like below\n",
    "# it is actually unpacking\n",
    "x, y, z = 1, 2, 3\n",
    "print(x, y, z)"
   ]
  },
  {
   "cell_type": "code",
   "execution_count": 3,
   "metadata": {},
   "outputs": [
    {
     "output_type": "stream",
     "name": "stdout",
     "text": [
      "1\n2\n[3, 4, 5, 6, 7]\n"
     ]
    }
   ],
   "source": [
    "# sometimes we have a list and we want to unpack a few first element\n",
    "# and we don't know actually how many more left in the list\n",
    "a = [1, 2, 3, 4, 5, 6, 7]\n",
    "first, second, *rest = a\n",
    "\n",
    "print(first)\n",
    "print(second)\n",
    "print(rest)"
   ]
  },
  {
   "cell_type": "code",
   "execution_count": 5,
   "metadata": {},
   "outputs": [
    {
     "output_type": "stream",
     "name": "stdout",
     "text": [
      "1\n2\n[3, 4, 5, 6]\n7\n"
     ]
    }
   ],
   "source": [
    "# it's more interesting when we can unpack a feew first and last element, leave the rest (middle) \n",
    "a = [1, 2, 3, 4, 5, 6, 7]\n",
    "first, second, *rest, last = a\n",
    "\n",
    "print(first)\n",
    "print(second)\n",
    "print(rest)\n",
    "print(last)"
   ]
  },
  {
   "cell_type": "code",
   "execution_count": 6,
   "metadata": {},
   "outputs": [
    {
     "output_type": "stream",
     "name": "stdout",
     "text": [
      "[1, 2, 3]\n['a', 'b', 'c', 'd']\n[1, 2, 3, 'a', 'b', 'c', 'd']\n"
     ]
    }
   ],
   "source": [
    "# it's even more interesting when we can the * operator on the right hand side of the assignment\n",
    "a = [1, 2, 3]\n",
    "b = ['a', 'b', 'c', 'd']\n",
    "c = [*a, *b]\n",
    "\n",
    "print(a)\n",
    "print(b)\n",
    "print(c)"
   ]
  },
  {
   "cell_type": "code",
   "execution_count": 7,
   "metadata": {},
   "outputs": [
    {
     "output_type": "stream",
     "name": "stdout",
     "text": [
      "1\n[2, 3, 4, 5, 'c', 'b']\na\n"
     ]
    }
   ],
   "source": [
    "# be very careful with unpacking * on the left hand side with UNORDERED types like set or dict\n",
    "# because these types are unordered what returned may be unexpected\n",
    "a = {1, 2, 3, 5, 'a', 'b', 4, 'c'}\n",
    "first, *rest, last = a\n",
    "\n",
    "print(first)\n",
    "print(rest)\n",
    "print(last)"
   ]
  },
  {
   "cell_type": "code",
   "execution_count": 8,
   "metadata": {},
   "outputs": [
    {
     "output_type": "stream",
     "name": "stdout",
     "text": [
      "['key1', 'key2', 'key3', 'key2', 'key4', 'key5']\n{'key4', 'key1', 'key3', 'key5', 'key2'}\n"
     ]
    }
   ],
   "source": [
    "# BUT, sometimes it can be REALLY useful when we unpack the right hand side of the unordered types\n",
    "d1 = {'key1': 1, 'key2': 2, 'key3': 3}\n",
    "d2 = {'key2': 4, 'key4': 6, 'key5': 8}\n",
    "\n",
    "# we want to get all the keys from both dict including the duplicates\n",
    "keys_list = [*d1, *d2]\n",
    "print(keys_list)\n",
    "\n",
    "# or, we want to get all Unique keys from both dict\n",
    "keys_set = {*d1, *d2}\n",
    "print(keys_set)"
   ]
  },
  {
   "cell_type": "code",
   "execution_count": 9,
   "metadata": {},
   "outputs": [
    {
     "output_type": "stream",
     "name": "stdout",
     "text": [
      "{'key1': 5, 'key2': 4, 'key3': 3, 'key4': 10, 'key5': 8, 'key6': 15}\n"
     ]
    }
   ],
   "source": [
    "# so, nwo the question is cn we unpack both key and value of dict?\n",
    "# yes, we can by using ** operator. It can be very useful but be careful with the oder of dictionaries\n",
    "# if they have some shared key, the value of the later dict will OVERRIDE the previous dict\n",
    "d1 = {'key1': 1, 'key2': 2, 'key3': 3}\n",
    "d2 = {'key2': 4, 'key4': 6, 'key5': 8}\n",
    "d3 = {'key1': 5, 'key4': 10, 'key6': 15}\n",
    "\n",
    "d = {**d1, **d2, **d3}\n",
    "print(d)"
   ]
  },
  {
   "cell_type": "code",
   "execution_count": 10,
   "metadata": {},
   "outputs": [],
   "source": [
    "# NOTE that we can NOT using ** operator on the left hand side"
   ]
  },
  {
   "cell_type": "code",
   "execution_count": 11,
   "metadata": {},
   "outputs": [
    {
     "output_type": "stream",
     "name": "stdout",
     "text": [
      "[1, 2, 3]\na b c\n4 5\n"
     ]
    }
   ],
   "source": [
    "# what if we have a nested list? Yes, we cn unpack them too\n",
    "a = [1, 2, 3, ['a', 'b', 'c'], [4, 5]]\n",
    "*x, (a, b, c), (y, z) = a\n",
    "print(x)\n",
    "print(a, b, c)\n",
    "print(y, z) "
   ]
  },
  {
   "cell_type": "code",
   "execution_count": null,
   "metadata": {},
   "outputs": [],
   "source": []
  }
 ]
}