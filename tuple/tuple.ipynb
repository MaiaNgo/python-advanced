{
 "metadata": {
  "language_info": {
   "codemirror_mode": {
    "name": "ipython",
    "version": 3
   },
   "file_extension": ".py",
   "mimetype": "text/x-python",
   "name": "python",
   "nbconvert_exporter": "python",
   "pygments_lexer": "ipython3",
   "version": "3.6.9-final"
  },
  "orig_nbformat": 2,
  "kernelspec": {
   "name": "python3",
   "display_name": "Python 3.6.9 64-bit",
   "metadata": {
    "interpreter": {
     "hash": "7981d81b3924aa8f8737ad1f515d2c1560025393c5e8fb9a51b730ca6a994a8e"
    }
   }
  }
 },
 "nbformat": 4,
 "nbformat_minor": 2,
 "cells": [
  {
   "cell_type": "code",
   "execution_count": 21,
   "metadata": {},
   "outputs": [],
   "source": [
    "# tuples are containers that contain other objects\n",
    "# items in a tuple have order\n",
    "# tuples are indexable, we can use index [] syntax to access its items\n",
    "# tuples are iterable\n",
    "# tuples are immutable (read-only) - can not add/remove/update its items\n",
    "\n",
    "# Tuples work well for representing data structures\n",
    "# for example: Point: (x, y), Circle(x, y, r)\n"
   ]
  },
  {
   "cell_type": "code",
   "execution_count": 22,
   "metadata": {},
   "outputs": [
    {
     "output_type": "stream",
     "name": "stdout",
     "text": [
      "10 25\n"
     ]
    }
   ],
   "source": [
    "# define a tuple that represent a point in 2D space\n",
    "point = (10, 25)\n",
    "\n",
    "# access using index\n",
    "print(point[0], point[1])"
   ]
  },
  {
   "cell_type": "code",
   "execution_count": 23,
   "metadata": {},
   "outputs": [
    {
     "output_type": "stream",
     "name": "stdout",
     "text": [
      "10\n25\n"
     ]
    }
   ],
   "source": [
    "# we can iterate through its element\n",
    "for i in point:\n",
    "    print(i)"
   ]
  },
  {
   "cell_type": "code",
   "execution_count": 24,
   "metadata": {},
   "outputs": [
    {
     "output_type": "stream",
     "name": "stdout",
     "text": [
      "10 25\n"
     ]
    }
   ],
   "source": [
    "# or we can unpack it\n",
    "x, y = point\n",
    "print(x, y)"
   ]
  },
  {
   "cell_type": "code",
   "execution_count": 25,
   "metadata": {},
   "outputs": [],
   "source": [
    "# a data point for stock price\n",
    "# (symbol, year, month, day, open, high, low, close)\n",
    "s = ('APPL', 2020, 10, 15, 200.00, 250.00, 180.00, 225.00)"
   ]
  },
  {
   "cell_type": "code",
   "execution_count": 26,
   "metadata": {},
   "outputs": [
    {
     "output_type": "stream",
     "name": "stdout",
     "text": [
      "APPL 225.0\n"
     ]
    }
   ],
   "source": [
    "# unpack with the use of dummy variable\n",
    "# asume we only care about symbol and close price\n",
    "symbol, *_, close = s\n",
    "print(symbol, close)"
   ]
  },
  {
   "cell_type": "code",
   "execution_count": 27,
   "metadata": {},
   "outputs": [
    {
     "output_type": "stream",
     "name": "stdout",
     "text": [
      "APPL 225.0\n"
     ]
    }
   ],
   "source": [
    "# we can use any variable name, not require to use dummny variable _\n",
    "symbol, *ignored, close = s\n",
    "print(symbol, close)"
   ]
  },
  {
   "cell_type": "code",
   "execution_count": 28,
   "metadata": {},
   "outputs": [],
   "source": [
    "# namedtuples is a function that create class (class factory)\n",
    "from collections import namedtuple\n",
    "\n",
    "Point = namedtuple('Point', ['x', 'y'])\n",
    "\n",
    "p1 = Point(10, 15)\n",
    "p2 = Point(10, 15)"
   ]
  },
  {
   "cell_type": "code",
   "execution_count": 29,
   "metadata": {},
   "outputs": [
    {
     "output_type": "stream",
     "name": "stdout",
     "text": [
      "10 15\n"
     ]
    }
   ],
   "source": [
    "# access using index\n",
    "print(p1[0], p1[1])"
   ]
  },
  {
   "cell_type": "code",
   "execution_count": 30,
   "metadata": {},
   "outputs": [
    {
     "output_type": "stream",
     "name": "stdout",
     "text": [
      "Point(x=10, y=15)\n"
     ]
    }
   ],
   "source": [
    "print(p1)"
   ]
  },
  {
   "cell_type": "code",
   "execution_count": null,
   "metadata": {},
   "outputs": [],
   "source": []
  },
  {
   "cell_type": "code",
   "execution_count": 31,
   "metadata": {},
   "outputs": [
    {
     "output_type": "execute_result",
     "data": {
      "text/plain": [
       "True"
      ]
     },
     "metadata": {},
     "execution_count": 31
    }
   ],
   "source": [
    "# compare equality\n",
    "p1 == p2"
   ]
  },
  {
   "cell_type": "code",
   "execution_count": 32,
   "metadata": {},
   "outputs": [
    {
     "output_type": "execute_result",
     "data": {
      "text/plain": [
       "False"
      ]
     },
     "metadata": {},
     "execution_count": 32
    }
   ],
   "source": [
    "# compare identity\n",
    "p1 is p2"
   ]
  },
  {
   "cell_type": "code",
   "execution_count": 33,
   "metadata": {},
   "outputs": [
    {
     "output_type": "stream",
     "name": "stdout",
     "text": [
      "10 15\n"
     ]
    }
   ],
   "source": [
    "# access fields like class\n",
    "print(p1.x, p1.y)"
   ]
  },
  {
   "cell_type": "code",
   "execution_count": 34,
   "metadata": {},
   "outputs": [
    {
     "output_type": "stream",
     "name": "stdout",
     "text": [
      "10 15\n"
     ]
    }
   ],
   "source": [
    "# access elements with index\n",
    "print(p1[0], p1[1])"
   ]
  },
  {
   "cell_type": "code",
   "execution_count": 35,
   "metadata": {},
   "outputs": [
    {
     "output_type": "stream",
     "name": "stdout",
     "text": [
      "Point(x=10, y=15)\n"
     ]
    }
   ],
   "source": [
    "print(p1)"
   ]
  },
  {
   "cell_type": "code",
   "execution_count": 36,
   "metadata": {},
   "outputs": [
    {
     "output_type": "execute_result",
     "data": {
      "text/plain": [
       "__main__.Point"
      ]
     },
     "metadata": {},
     "execution_count": 36
    }
   ],
   "source": [
    "type(p1)"
   ]
  },
  {
   "cell_type": "code",
   "execution_count": 37,
   "metadata": {},
   "outputs": [
    {
     "output_type": "execute_result",
     "data": {
      "text/plain": [
       "('x', 'y')"
      ]
     },
     "metadata": {},
     "execution_count": 37
    }
   ],
   "source": [
    "Point._fields"
   ]
  },
  {
   "cell_type": "code",
   "execution_count": 38,
   "metadata": {},
   "outputs": [
    {
     "output_type": "stream",
     "name": "stdout",
     "text": [
      "10 15\n"
     ]
    }
   ],
   "source": [
    "# convert to dict\n",
    "p = p1._asdict()\n",
    "print(p['x'], p['y'])"
   ]
  }
 ]
}