{
 "cells": [
  {
   "cell_type": "code",
   "execution_count": 1,
   "metadata": {},
   "outputs": [
    {
     "name": "stdout",
     "output_type": "stream",
     "text": [
      "Help on built-in function sorted in module builtins:\n",
      "\n",
      "sorted(iterable, /, *, key=None, reverse=False)\n",
      "    Return a new list containing all items from the iterable in ascending order.\n",
      "    \n",
      "    A custom key function can be supplied to customize the sort order, and the\n",
      "    reverse flag can be set to request the result in descending order.\n",
      "\n"
     ]
    }
   ],
   "source": [
    "help(sorted)"
   ]
  },
  {
   "cell_type": "code",
   "execution_count": 1,
   "metadata": {},
   "outputs": [
    {
     "name": "stdout",
     "output_type": "stream",
     "text": [
      "[1, 3, 5, 4, 2, 6, 7, 9, 8]\n"
     ]
    }
   ],
   "source": [
    "# simple list of literal values\n",
    "numbers = [1, 3, 5, 4, 2, 6, 7, 9, 8]\n",
    "\n",
    "print(numbers)"
   ]
  },
  {
   "cell_type": "code",
   "execution_count": 6,
   "metadata": {},
   "outputs": [
    {
     "name": "stdout",
     "output_type": "stream",
     "text": [
      "[1, 2, 3, 4, 5, 6, 7, 8, 9]\n",
      "[9, 8, 7, 6, 5, 4, 3, 2, 1]\n"
     ]
    }
   ],
   "source": [
    "# we sort it by ascending\n",
    "numbers_asc = sorted(numbers)\n",
    "print(numbers_asc)\n",
    "\n",
    "# we can sort it by descending\n",
    "numbers_desc = sorted(numbers, reverse=True)\n",
    "print(numbers_desc)\n"
   ]
  },
  {
   "cell_type": "code",
   "execution_count": 7,
   "metadata": {},
   "outputs": [
    {
     "data": {
      "text/plain": [
       "['Avatar', 'Captain America', 'Spider Man', 'Star Wars', 'Transformers']"
      ]
     },
     "execution_count": 7,
     "metadata": {},
     "output_type": "execute_result"
    }
   ],
   "source": [
    "# can also sort strings\n",
    "movies = ['Avatar', 'Transformers', 'Star Wars', 'Spider Man', 'Captain America']\n",
    "\n",
    "sorted(movies)"
   ]
  },
  {
   "cell_type": "code",
   "execution_count": 9,
   "metadata": {},
   "outputs": [
    {
     "name": "stdout",
     "output_type": "stream",
     "text": [
      "[('Avatar', 4.5), ('Transformers', 4.3), ('Star Wars', 4.6), ('Spider Man', 4.1), ('Captain America', 4.0)]\n"
     ]
    }
   ],
   "source": [
    "# list of tuples of movies and its rating\n",
    "movie_ratings = [('Avatar', 4.5), ('Transformers', 4.3), ('Star Wars', 4.6), ('Spider Man', 4.1), ('Captain America', 4.0)]\n",
    "\n",
    "print(movie_ratings)"
   ]
  },
  {
   "cell_type": "code",
   "execution_count": 10,
   "metadata": {},
   "outputs": [
    {
     "data": {
      "text/plain": [
       "[('Avatar', 4.5),\n",
       " ('Captain America', 4.0),\n",
       " ('Spider Man', 4.1),\n",
       " ('Star Wars', 4.6),\n",
       " ('Transformers', 4.3)]"
      ]
     },
     "execution_count": 10,
     "metadata": {},
     "output_type": "execute_result"
    }
   ],
   "source": [
    "# sort movie rating list by movie titles\n",
    "sorted(movie_ratings,  key=lambda x : x[0])"
   ]
  },
  {
   "cell_type": "code",
   "execution_count": 12,
   "metadata": {},
   "outputs": [
    {
     "data": {
      "text/plain": [
       "[('Star Wars', 4.6),\n",
       " ('Avatar', 4.5),\n",
       " ('Transformers', 4.3),\n",
       " ('Spider Man', 4.1),\n",
       " ('Captain America', 4.0)]"
      ]
     },
     "execution_count": 12,
     "metadata": {},
     "output_type": "execute_result"
    }
   ],
   "source": [
    "# sort by movie rating where higer rating goes first\n",
    "sorted(movie_ratings, key=lambda x: x[1], reverse=True)"
   ]
  },
  {
   "cell_type": "code",
   "execution_count": 15,
   "metadata": {},
   "outputs": [
    {
     "name": "stdout",
     "output_type": "stream",
     "text": [
      "[{'title': 'Avatar', 'cost': 100, 'revenue': 300}, {'title': 'Transformers', 'cost': 150, 'revenue': 250}, {'title': 'Star Wars', 'cost': 125, 'revenue': 350}, {'title': 'Spider Man', 'cost': 200, 'revenue': 370}, {'title': 'Captain America', 'cost': 250, 'revenue': 400}]\n"
     ]
    }
   ],
   "source": [
    "# list of dictionaries of movies\n",
    "movies = [\n",
    "    {'title': 'Avatar', 'cost': 100, 'revenue': 300},\n",
    "    {'title': 'Transformers', 'cost': 150, 'revenue': 250},\n",
    "    {'title': 'Star Wars', 'cost': 125, 'revenue': 350},\n",
    "    {'title': 'Spider Man', 'cost': 200, 'revenue': 370},\n",
    "    {'title': 'Captain America', 'cost': 250, 'revenue': 400}\n",
    "]\n",
    "\n",
    "print(movies)"
   ]
  },
  {
   "cell_type": "code",
   "execution_count": 17,
   "metadata": {},
   "outputs": [
    {
     "data": {
      "text/plain": [
       "['Captain America', 'Spider Man', 'Star Wars', 'Avatar', 'Transformers']"
      ]
     },
     "execution_count": 17,
     "metadata": {},
     "output_type": "execute_result"
    }
   ],
   "source": [
    "# get a list of movie titles taht have revenue from highest to lowest\n",
    "[movie['title'] for movie in sorted(movies, key=lambda x : x['revenue'], reverse=True)]"
   ]
  },
  {
   "cell_type": "code",
   "execution_count": 21,
   "metadata": {},
   "outputs": [
    {
     "data": {
      "text/plain": [
       "('Avatar', 100)"
      ]
     },
     "execution_count": 21,
     "metadata": {},
     "output_type": "execute_result"
    }
   ],
   "source": [
    "# get the movie that has lowest cost and show its cost\n",
    "[(movie['title'], movie['cost']) for movie in sorted(movies, key=lambda x : x['cost'])][0]"
   ]
  },
  {
   "cell_type": "code",
   "execution_count": null,
   "metadata": {},
   "outputs": [],
   "source": []
  }
 ],
 "metadata": {
  "kernelspec": {
   "display_name": "Python 3",
   "name": "python3"
  },
  "language_info": {
   "codemirror_mode": {
    "name": "ipython",
    "version": 3
   },
   "file_extension": ".py",
   "mimetype": "text/x-python",
   "name": "python",
   "nbconvert_exporter": "python",
   "pygments_lexer": "ipython3",
   "version": "3.7.4"
  },
  "orig_nbformat": 2
 },
 "nbformat": 4,
 "nbformat_minor": 2
}
