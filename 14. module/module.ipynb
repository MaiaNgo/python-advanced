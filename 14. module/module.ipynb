{
 "metadata": {
  "language_info": {
   "codemirror_mode": {
    "name": "ipython",
    "version": 3
   },
   "file_extension": ".py",
   "mimetype": "text/x-python",
   "name": "python",
   "nbconvert_exporter": "python",
   "pygments_lexer": "ipython3",
   "version": "3.6.9-final"
  },
  "orig_nbformat": 2,
  "kernelspec": {
   "name": "Python 3.6.9 64-bit ('learn-env': conda)",
   "display_name": "Python 3.6.9 64-bit ('learn-env': conda)",
   "metadata": {
    "interpreter": {
     "hash": "7981d81b3924aa8f8737ad1f515d2c1560025393c5e8fb9a51b730ca6a994a8e"
    }
   }
  }
 },
 "nbformat": 4,
 "nbformat_minor": 2,
 "cells": [
  {
   "cell_type": "code",
   "execution_count": 2,
   "metadata": {},
   "outputs": [],
   "source": [
    "# module is actually an object with type ModuleType\n",
    "# let's define a function to explore about module\n",
    "def add(a, b):\n",
    "    return a + b"
   ]
  },
  {
   "cell_type": "code",
   "execution_count": 3,
   "metadata": {},
   "outputs": [
    {
     "output_type": "execute_result",
     "data": {
      "text/plain": [
       "<function __main__.add(a, b)>"
      ]
     },
     "metadata": {},
     "execution_count": 3
    }
   ],
   "source": [
    "# look at this function\n",
    "add"
   ]
  },
  {
   "cell_type": "code",
   "execution_count": 7,
   "metadata": {},
   "outputs": [
    {
     "output_type": "execute_result",
     "data": {
      "text/plain": [
       "{'__name__': '__main__',\n",
       " '__doc__': 'Automatically created module for IPython interactive environment',\n",
       " '__package__': None,\n",
       " '__loader__': None,\n",
       " '__spec__': None,\n",
       " '__builtin__': <module 'builtins' (built-in)>,\n",
       " '__builtins__': <module 'builtins' (built-in)>,\n",
       " '_ih': ['',\n",
       "  '# module is actually an object with type ModuleType',\n",
       "  \"# module is actually an object with type ModuleType\\n# let's define a function to explore about module\\ndef add(a, b):\\n    return a + b\",\n",
       "  '# look at this function\\nadd',\n",
       "  '# notice that the function add is inside a module named __main__ which is a global (implicit) module\\nid(func)',\n",
       "  '# notice that the function add is inside a module named __main__ which is a global (implicit) module\\nid(add)',\n",
       "  'id(__main__)',\n",
       "  'globals()'],\n",
       " '_oh': {3: <function __main__.add(a, b)>, 5: 140416405764568},\n",
       " '_dh': ['/', '/Users/groundwatercapital/github/python-advanced/module'],\n",
       " 'In': ['',\n",
       "  '# module is actually an object with type ModuleType',\n",
       "  \"# module is actually an object with type ModuleType\\n# let's define a function to explore about module\\ndef add(a, b):\\n    return a + b\",\n",
       "  '# look at this function\\nadd',\n",
       "  '# notice that the function add is inside a module named __main__ which is a global (implicit) module\\nid(func)',\n",
       "  '# notice that the function add is inside a module named __main__ which is a global (implicit) module\\nid(add)',\n",
       "  'id(__main__)',\n",
       "  'globals()'],\n",
       " 'Out': {3: <function __main__.add(a, b)>, 5: 140416405764568},\n",
       " 'get_ipython': <bound method InteractiveShell.get_ipython of <ipykernel.zmqshell.ZMQInteractiveShell object at 0x7fb53b353898>>,\n",
       " 'exit': <IPython.core.autocall.ZMQExitAutocall at 0x7fb53b3aef28>,\n",
       " 'quit': <IPython.core.autocall.ZMQExitAutocall at 0x7fb53b3aef28>,\n",
       " '_': 140416405764568,\n",
       " '__': <function __main__.add(a, b)>,\n",
       " '___': '',\n",
       " 'os': <module 'os' from '/Users/groundwatercapital/opt/anaconda3/envs/learn-env/lib/python3.6/os.py'>,\n",
       " 'sys': <module 'sys' (built-in)>,\n",
       " '_i': 'id(__main__)',\n",
       " '_ii': '# notice that the function add is inside a module named __main__ which is a global (implicit) module\\nid(add)',\n",
       " '_iii': '# notice that the function add is inside a module named __main__ which is a global (implicit) module\\nid(func)',\n",
       " '_i1': '# module is actually an object with type ModuleType',\n",
       " '_i2': \"# module is actually an object with type ModuleType\\n# let's define a function to explore about module\\ndef add(a, b):\\n    return a + b\",\n",
       " 'add': <function __main__.add(a, b)>,\n",
       " '_i3': '# look at this function\\nadd',\n",
       " '_3': <function __main__.add(a, b)>,\n",
       " '_i4': '# notice that the function add is inside a module named __main__ which is a global (implicit) module\\nid(func)',\n",
       " '_rwho_ls': ['add', 'os', 'sys'],\n",
       " '_i5': '# notice that the function add is inside a module named __main__ which is a global (implicit) module\\nid(add)',\n",
       " '_5': 140416405764568,\n",
       " '_i6': 'id(__main__)',\n",
       " '_i7': 'globals()'}"
      ]
     },
     "metadata": {},
     "execution_count": 7
    }
   ],
   "source": [
    "# notice that function add is inside the __main__ module - a global implicit module\n",
    "# in fact, if we can globals() function we will see that\n",
    "globals()"
   ]
  },
  {
   "cell_type": "code",
   "execution_count": 8,
   "metadata": {},
   "outputs": [
    {
     "output_type": "execute_result",
     "data": {
      "text/plain": [
       "True"
      ]
     },
     "metadata": {},
     "execution_count": 8
    }
   ],
   "source": [
    "# the globals() function returns a dict that contains all objects in the global namespace\n",
    "# for example, we can get the function object 'add' and use it\n",
    "f = globals()['add']\n",
    "\n",
    "f == add"
   ]
  },
  {
   "cell_type": "code",
   "execution_count": 9,
   "metadata": {},
   "outputs": [
    {
     "output_type": "execute_result",
     "data": {
      "text/plain": [
       "3"
      ]
     },
     "metadata": {},
     "execution_count": 9
    }
   ],
   "source": [
    "f(1, 2)"
   ]
  },
  {
   "cell_type": "code",
   "execution_count": 11,
   "metadata": {},
   "outputs": [],
   "source": [
    "# we also have the function locals() that return a dict of all objects in the local scope\n",
    "def add(a, b):\n",
    "    print(locals())\n",
    "    return a + b"
   ]
  },
  {
   "cell_type": "code",
   "execution_count": 12,
   "metadata": {},
   "outputs": [
    {
     "output_type": "stream",
     "name": "stdout",
     "text": [
      "{'b': 2, 'a': 1}\n"
     ]
    },
    {
     "output_type": "execute_result",
     "data": {
      "text/plain": [
       "3"
      ]
     },
     "metadata": {},
     "execution_count": 12
    }
   ],
   "source": [
    "add(1, 2)"
   ]
  },
  {
   "cell_type": "code",
   "execution_count": 13,
   "metadata": {},
   "outputs": [],
   "source": [
    "# let's import a module\n",
    "import math"
   ]
  },
  {
   "cell_type": "code",
   "execution_count": 14,
   "metadata": {},
   "outputs": [
    {
     "output_type": "execute_result",
     "data": {
      "text/plain": [
       "module"
      ]
     },
     "metadata": {},
     "execution_count": 14
    }
   ],
   "source": [
    "type(math)"
   ]
  },
  {
   "cell_type": "code",
   "execution_count": 15,
   "metadata": {},
   "outputs": [
    {
     "output_type": "execute_result",
     "data": {
      "text/plain": [
       "<module 'math' from '/Users/groundwatercapital/opt/anaconda3/envs/learn-env/lib/python3.6/lib-dynload/math.cpython-36m-darwin.so'>"
      ]
     },
     "metadata": {},
     "execution_count": 15
    }
   ],
   "source": [
    "math"
   ]
  },
  {
   "cell_type": "code",
   "execution_count": 16,
   "metadata": {},
   "outputs": [],
   "source": [
    "# what does Python do when import\n",
    "# import happens only at runtime while executing, not pre-compile/pre-import\n",
    "import sys"
   ]
  },
  {
   "cell_type": "code",
   "execution_count": 17,
   "metadata": {},
   "outputs": [
    {
     "output_type": "execute_result",
     "data": {
      "text/plain": [
       "['/Users/groundwatercapital/github/python-advanced/module',\n",
       " '/Users/groundwatercapital/.vscode/extensions/ms-python.python-2020.9.114305/pythonFiles/vscode_datascience_helpers/../.does-not-exist',\n",
       " '/Users/groundwatercapital/.vscode/extensions/ms-python.python-2020.9.114305/pythonFiles',\n",
       " '/Users/groundwatercapital/.vscode/extensions/ms-python.python-2020.9.114305/pythonFiles/lib/python',\n",
       " '/Users/groundwatercapital/opt/anaconda3/envs/learn-env/lib/python36.zip',\n",
       " '/Users/groundwatercapital/opt/anaconda3/envs/learn-env/lib/python3.6',\n",
       " '/Users/groundwatercapital/opt/anaconda3/envs/learn-env/lib/python3.6/lib-dynload',\n",
       " '',\n",
       " '/Users/groundwatercapital/opt/anaconda3/envs/learn-env/lib/python3.6/site-packages',\n",
       " '/Users/groundwatercapital/opt/anaconda3/envs/learn-env/lib/python3.6/site-packages/IPython/extensions',\n",
       " '/Users/groundwatercapital/.ipython']"
      ]
     },
     "metadata": {},
     "execution_count": 17
    }
   ],
   "source": [
    "sys.path"
   ]
  },
  {
   "cell_type": "code",
   "execution_count": 18,
   "metadata": {},
   "outputs": [
    {
     "output_type": "execute_result",
     "data": {
      "text/plain": [
       "py'>,\n",
       " 'jupyter_client._version': <module 'jupyter_client._version' from '/Users/groundwatercapital/opt/anaconda3/envs/learn-env/lib/python3.6/site-packages/jupyter_client/_version.py'>,\n",
       " 'jupyter_client.connect': <module 'jupyter_client.connect' from '/Users/groundwatercapital/opt/anaconda3/envs/learn-env/lib/python3.6/site-packages/jupyter_client/connect.py'>,\n",
       " 'zmq': <module 'zmq' from '/Users/groundwatercapital/opt/anaconda3/envs/learn-env/lib/python3.6/site-packages/zmq/__init__.py'>,\n",
       " 'ctypes': <module 'ctypes' from '/Users/groundwatercapital/opt/anaconda3/envs/learn-env/lib/python3.6/ctypes/__init__.py'>,\n",
       " '_ctypes': <module '_ctypes' from '/Users/groundwatercapital/opt/anaconda3/envs/learn-env/lib/python3.6/lib-dynload/_ctypes.cpython-36m-darwin.so'>,\n",
       " 'ctypes._endian': <module 'ctypes._endian' from '/Users/groundwatercapital/opt/anaconda3/envs/learn-env/lib/python3.6/ctypes/_endian.py'>,\n",
       " 'zmq.backend': <module 'zmq.backend' from '/Users/groundwatercapital/opt/anaconda3/envs/learn-env/lib/python3.6/site-packages/zmq/backend/__init__.py'>,\n",
       " 'zmq.backend.select': <module 'zmq.backend.select' from '/Users/groundwatercapital/opt/anaconda3/envs/learn-env/lib/python3.6/site-packages/zmq/backend/select.py'>,\n",
       " 'zmq.backend.cython': <module 'zmq.backend.cython' from '/Users/groundwatercapital/opt/anaconda3/envs/learn-env/lib/python3.6/site-packages/zmq/backend/cython/__init__.py'>,\n",
       " 'zmq.backend.cython.constants': <module 'zmq.backend.cython.constants' from '/Users/groundwatercapital/opt/anaconda3/envs/learn-env/lib/python3.6/site-packages/zmq/backend/cython/constants.cpython-36m-darwin.so'>,\n",
       " 'cython_runtime': <module 'cython_runtime'>,\n",
       " 'zmq.backend.cython.error': <module 'zmq.backend.cython.error' from '/Users/groundwatercapital/opt/anaconda3/envs/learn-env/lib/python3.6/site-packages/zmq/backend/cython/error.cpython-36m-darwin.so'>,\n",
       " '_cython_0_29_13': <module '_cython_0_29_13'>,\n",
       " 'zmq.backend.cython.message': <module 'zmq.backend.cython.message' from '/Users/groundwatercapital/opt/anaconda3/envs/learn-env/lib/python3.6/site-packages/zmq/backend/cython/message.cpython-36m-darwin.so'>,\n",
       " 'zmq.error': <module 'zmq.error' from '/Users/groundwatercapital/opt/anaconda3/envs/learn-env/lib/python3.6/site-packages/zmq/error.py'>,\n",
       " 'zmq.backend.cython.context': <module 'zmq.backend.cython.context' from '/Users/groundwatercapital/opt/anaconda3/envs/learn-env/lib/python3.6/site-packages/zmq/backend/cython/context.cpython-36m-darwin.so'>,\n",
       " 'zmq.backend.cython.socket': <module 'zmq.backend.cython.socket' from '/Users/groundwatercapital/opt/anaconda3/envs/learn-env/lib/python3.6/site-packages/zmq/backend/cython/socket.cpython-36m-darwin.so'>,\n",
       " 'zmq.backend.cython.utils': <module 'zmq.backend.cython.utils' from '/Users/groundwatercapital/opt/anaconda3/envs/learn-env/lib/python3.6/site-packages/zmq/backend/cython/utils.cpython-36m-darwin.so'>,\n",
       " 'zmq.backend.cython._poll': <module 'zmq.backend.cython._poll' from '/Users/groundwatercapital/opt/anaconda3/envs/learn-env/lib/python3.6/site-packages/zmq/backend/cython/_poll.cpython-36m-darwin.so'>,\n",
       " 'zmq.backend.cython._version': <module 'zmq.backend.cython._version' from '/Users/groundwatercapital/opt/anaconda3/envs/learn-env/lib/python3.6/site-packages/zmq/backend/cython/_version.cpython-36m-darwin.so'>,\n",
       " 'zmq.backend.cython._device': <module 'zmq.backend.cython._device' from '/Users/groundwatercapital/opt/anaconda3/envs/learn-env/lib/python3.6/site-packages/zmq/backend/cython/_device.cpython-36m-darwin.so'>,\n",
       " 'zmq.backend.cython._proxy_steerable': <module 'zmq.backend.cython._proxy_steerable' from '/Users/groundwatercapital/opt/anaconda3/envs/learn-env/lib/python3.6/site-packages/zmq/backend/cython/_proxy_steerable.cpython-36m-darwin.so'>,\n",
       " 'zmq.sugar': <module 'zmq.sugar' from '/Users/groundwatercapital/opt/anaconda3/envs/learn-env/lib/python3.6/site-packages/zmq/sugar/__init__.py'>,\n",
       " 'zmq.sugar.constants': <module 'zmq.sugar.constants' from '/Users/groundwatercapital/opt/anaconda3/envs/learn-env/lib/python3.6/site-packages/zmq/sugar/constants.py'>,\n",
       " 'zmq.utils': <module 'zmq.utils' from '/Users/groundwatercapital/opt/anaconda3/envs/learn-env/lib/python3.6/site-packages/zmq/utils/__init__.py'>,\n",
       " 'zmq.utils.constant_names': <module 'zmq.utils.constant_names' from '/Users/groundwatercapital/opt/anaconda3/envs/learn-env/lib/python3.6/site-packages/zmq/utils/constant_names.py'>,\n",
       " 'zmq.sugar.context': <module 'zmq.sugar.context' from '/Users/groundwatercapital/opt/anaconda3/envs/learn-env/lib/python3.6/site-packages/zmq/sugar/context.py'>,\n",
       " 'zmq.sugar.attrsettr': <module 'zmq.sugar.attrsettr' from '/Users/groundwatercapital/opt/anaconda3/envs/learn-env/lib/python3.6/site-packages/zmq/sugar/attrsettr.py'>,\n",
       " 'zmq.sugar.socket': <module 'zmq.sugar.socket' from '/Users/groundwatercapital/opt/anaconda3/envs/learn-env/lib/python3.6/site-packages/zmq/sugar/socket.py'>,\n",
       " 'zmq.sugar.poll': <module 'zmq.sugar.poll' from '/Users/groundwatercapital/opt/anaconda3/envs/learn-env/lib/python3.6/site-packages/zmq/sugar/poll.py'>,\n",
       " 'zmq.utils.jsonapi': <module 'zmq.utils.jsonapi' from '/Users/groundwatercapital/opt/anaconda3/envs/learn-env/lib/python3.6/site-packages/zmq/utils/jsonapi.py'>,\n",
       " 'zmq.utils.strtypes': <module 'zmq.utils.strtypes' from '/Users/groundwatercapital/opt/anaconda3/envs/learn-env/lib/python3.6/site-packages/zmq/utils/strtypes.py'>,\n",
       " 'zmq.sugar.frame': <module 'zmq.sugar.frame' from '/Users/groundwatercapital/opt/anaconda3/envs/learn-env/lib/python3.6/site-packages/zmq/sugar/frame.py'>,\n",
       " 'zmq.sugar.tracker': <module 'zmq.sugar.tracker' from '/Users/groundwatercapital/opt/anaconda3/envs/learn-env/lib/python3.6/site-packages/zmq/sugar/tracker.py'>,\n",
       " 'zmq.sugar.version': <module 'zmq.sugar.version' from '/Users/groundwatercapital/opt/anaconda3/envs/learn-env/lib/python3.6/site-packages/zmq/sugar/version.py'>,\n",
       " 'zmq.sugar.stopwatch': <module 'zmq.sugar.stopwatch' from '/Users/groundwatercapital/opt/anaconda3/envs/learn-env/lib/python3.6/site-packages/zmq/sugar/stopwatch.py'>,\n",
       " 'jupyter_client.localinterfaces': <module 'jupyter_client.localinterfaces' from '/Users/groundwatercapital/opt/anaconda3/envs/learn-env/lib/python3.6/site-packages/jupyter_client/localinterfaces.py'>,\n",
       " 'jupyter_core': <module 'jupyter_core' from '/Users/groundwatercapital/opt/anaconda3/envs/learn-env/lib/python3.6/site-packages/jupyter_core/__init__.py'>,\n",
       " 'jupyter_core.version': <module 'jupyter_core.version' from '/Users/groundwatercapital/opt/anaconda3/envs/learn-env/lib/python3.6/site-packages/jupyter_core/version.py'>,\n",
       " 'jupyter_core.paths': <module 'jupyter_core.paths' from '/Users/groundwatercapital/opt/anaconda3/envs/learn-env/lib/python3.6/site-packages/jupyter_core/paths.py'>,\n",
       " 'jupyter_client.launcher': <module 'jupyter_client.launcher' from '/Users/groundwatercapital/opt/anaconda3/envs/learn-env/lib/python3.6/site-packages/jupyter_client/launcher.py'>,\n",
       " 'traitlets.log': <module 'traitlets.log' from '/Users/groundwatercapital/opt/anaconda3/envs/learn-env/lib/python3.6/site-packages/traitlets/log.py'>,\n",
       " 'jupyter_client.client': <module 'jupyter_client.client' from '/Users/groundwatercapital/opt/anaconda3/envs/learn-env/lib/python3.6/site-packages/jupyter_client/client.py'>,\n",
       " 'jupyter_client.channels': <module 'jupyter_client.channels' from '/Users/groundwatercapital/opt/anaconda3/envs/learn-env/lib/python3.6/site-packages/jupyter_client/channels.py'>,\n",
       " 'jupyter_client.channelsabc': <module 'jupyter_client.channelsabc' from '/Users/groundwatercapital/opt/anaconda3/envs/learn-env/lib/python3.6/site-packages/jupyter_client/channelsabc.py'>,\n",
       " 'jupyter_client.clientabc': <module 'jupyter_client.clientabc' from '/Users/groundwatercapital/opt/anaconda3/envs/learn-env/lib/python3.6/site-packages/jupyter_client/clientabc.py'>,\n",
       " 'jupyter_client.manager': <module 'jupyter_client.manager' from '/Users/groundwatercapital/opt/anaconda3/envs/learn-env/lib/python3.6/site-packages/jupyter_client/manager.py'>,\n",
       " 'jupyter_client.kernelspec': <module 'jupyter_client.kernelspec' from '/Users/groundwatercapital/opt/anaconda3/envs/learn-env/lib/python3.6/site-packages/jupyter_client/kernelspec.py'>,\n",
       " 'jupyter_client.managerabc': <module 'jupyter_client.managerabc' from '/Users/groundwatercapital/opt/anaconda3/envs/learn-env/lib/python3.6/site-packages/jupyter_client/managerabc.py'>,\n",
       " 'jupyter_client.blocking': <module 'jupyter_client.blocking' from '/Users/groundwatercapital/opt/anaconda3/envs/learn-env/lib/python3.6/site-packages/jupyter_client/blocking/__init__.py'>,\n",
       " 'jupyter_client.blocking.client': <module 'jupyter_client.blocking.client' from '/Users/groundwatercapital/opt/anaconda3/envs/learn-env/lib/python3.6/site-packages/jupyter_client/blocking/client.py'>,\n",
       " 'jupyter_client.blocking.channels': <module 'jupyter_client.blocking.channels' from '/Users/groundwatercapital/opt/anaconda3/envs/learn-env/lib/python3.6/site-packages/jupyter_client/blocking/channels.py'>,\n",
       " 'jupyter_client.multikernelmanager': <module 'jupyter_client.multikernelmanager' from '/Users/groundwatercapital/opt/anaconda3/envs/learn-env/lib/python3.6/site-packages/jupyter_client/multikernelmanager.py'>,\n",
       " 'uuid': <module 'uuid' from '/Users/groundwatercapital/opt/anaconda3/envs/learn-env/lib/python3.6/uuid.py'>,\n",
       " 'ctypes.util': <module 'ctypes.util' from '/Users/groundwatercapital/opt/anaconda3/envs/learn-env/lib/python3.6/ctypes/util.py'>,\n",
       " 'ctypes.macholib': <module 'ctypes.macholib' from '/Users/groundwatercapital/opt/anaconda3/envs/learn-env/lib/python3.6/ctypes/macholib/__init__.py'>,\n",
       " 'ctypes.macholib.dyld': <module 'ctypes.macholib.dyld' from '/Users/groundwatercapital/opt/anaconda3/envs/learn-env/lib/python3.6/ctypes/macholib/dyld.py'>,\n",
       " 'ctypes.macholib.framework': <module 'ctypes.macholib.framework' from '/Users/groundwatercapital/opt/anaconda3/envs/learn-env/lib/python3.6/ctypes/macholib/framework.py'>,\n",
       " 'ctypes.macholib.dylib': <module 'ctypes.macholib.dylib' from '/Users/groundwatercapital/opt/anaconda3/envs/learn-env/lib/python3.6/ctypes/macholib/dylib.py'>,\n",
       " 'ipykernel.kernelapp': <module 'ipykernel.kernelapp' from '/Users/groundwatercapital/opt/anaconda3/envs/learn-env/lib/python3.6/site-packages/ipykernel/kernelapp.py'>,\n",
       " 'tornado': <module 'tornado' from '/Users/groundwatercapital/opt/anaconda3/envs/learn-env/lib/python3.6/site-packages/tornado/__init__.py'>,\n",
       " 'tornado.ioloop': <module 'tornado.ioloop' from '/Users/groundwatercapital/opt/anaconda3/envs/learn-env/lib/python3.6/site-packages/tornado/ioloop.py'>,\n",
       " 'numbers': <module 'numbers' from '/Users/groundwatercapital/opt/anaconda3/envs/learn-env/lib/python3.6/numbers.py'>,\n",
       " 'tornado.concurrent': <module 'tornado.concurrent' from '/Users/groundwatercapital/opt/anaconda3/envs/learn-env/lib/python3.6/site-packages/tornado/concurrent.py'>,\n",
       " 'tornado.log': <module 'tornado.log' from '/Users/groundwatercapital/opt/anaconda3/envs/learn-env/lib/python3.6/site-packages/tornado/log.py'>,\n",
       " 'logging.handlers': <module 'logging.handlers' from '/Users/groundwatercapital/opt/anaconda3/envs/learn-env/lib/python3.6/logging/handlers.py'>,\n",
       " 'tornado.escape': <module 'tornado.escape' from '/Users/groundwatercapital/opt/anaconda3/envs/learn-env/lib/python3.6/site-packages/tornado/escape.py'>,\n",
       " 'tornado.util': <module 'tornado.util' from '/Users/groundwatercapital/opt/anaconda3/envs/learn-env/lib/python3.6/site-packages/tornado/util.py'>,\n",
       " 'tornado.speedups': <module 'tornado.speedups' from '/Users/groundwatercapital/opt/anaconda3/envs/learn-env/lib/python3.6/site-packages/tornado/speedups.cpython-36m-darwin.so'>,\n",
       " 'curses': <module 'curses' from '/Users/groundwatercapital/opt/anaconda3/envs/learn-env/lib/python3.6/curses/__init__.py'>,\n",
       " '_curses': <module '_curses' from '/Users/groundwatercapital/opt/anaconda3/envs/learn-env/lib/python3.6/lib-dynload/_curses.cpython-36m-darwin.so'>,\n",
       " 'zmq.eventloop': <module 'zmq.eventloop' from '/Users/groundwatercapital/opt/anaconda3/envs/learn-env/lib/python3.6/site-packages/zmq/eventloop/__init__.py'>,\n",
       " 'zmq.eventloop.ioloop': <module 'zmq.eventloop.ioloop' from '/Users/groundwatercapital/opt/anaconda3/envs/learn-env/lib/python3.6/site-packages/zmq/eventloop/ioloop.py'>,\n",
       " 'tornado.platform': <module 'tornado.platform' from '/Users/groundwatercapital/opt/anaconda3/envs/learn-env/lib/python3.6/site-packages/tornado/platform/__init__.py'>,\n",
       " 'tornado.platform.asyncio': <module 'tornado.platform.asyncio' from '/Users/groundwatercapital/opt/anaconda3/envs/learn-env/lib/python3.6/site-packages/tornado/platform/asyncio.py'>,\n",
       " 'tornado.gen': <module 'tornado.gen' from '/Users/groundwatercapital/opt/anaconda3/envs/learn-env/lib/python3.6/site-packages/tornado/gen.py'>,\n",
       " 'zmq.eventloop.zmqstream': <module 'zmq.eventloop.zmqstream' from '/Users/groundwatercapital/opt/anaconda3/envs/learn-env/lib/python3.6/site-packages/zmq/eventloop/zmqstream.py'>,\n",
       " 'ipykernel.iostream': <module 'ipykernel.iostream' from '/Users/groundwatercapital/opt/anaconda3/envs/learn-env/lib/python3.6/site-packages/ipykernel/iostream.py'>,\n",
       " 'imp': <module 'imp' from '/Users/groundwatercapital/opt/anaconda3/envs/learn-env/lib/python3.6/imp.py'>,\n",
       " 'jupyter_client.session': <module 'jupyter_client.session' from '/Users/groundwatercapital/opt/anaconda3/envs/learn-env/lib/python3.6/site-packages/jupyter_client/session.py'>,\n",
       " 'hmac': <module 'hmac' from '/Users/groundwatercapital/opt/anaconda3/envs/learn-env/lib/python3.6/hmac.py'>,\n",
       " 'jupyter_client.jsonutil': <module 'jupyter_client.jsonutil' from '/Users/groundwatercapital/opt/anaconda3/envs/learn-env/lib/python3.6/site-packages/jupyter_client/jsonutil.py'>,\n",
       " 'dateutil': <module 'dateutil' from '/Users/groundwatercapital/opt/anaconda3/envs/learn-env/lib/python3.6/site-packages/dateutil/__init__.py'>,\n",
       " 'dateutil._version': <module 'dateutil._version' from '/Users/groundwatercapital/opt/anaconda3/envs/learn-env/lib/python3.6/site-packages/dateutil/_version.py'>,\n",
       " 'dateutil.parser': <module 'dateutil.parser' from '/Users/groundwatercapital/opt/anaconda3/envs/learn-env/lib/python3.6/site-packages/dateutil/parser/__init__.py'>,\n",
       " 'dateutil.parser._parser': <module 'dateutil.parser._parser' from '/Users/groundwatercapital/opt/anaconda3/envs/learn-env/lib/python3.6/site-packages/dateutil/parser/_parser.py'>,\n",
       " 'decimal': <module 'decimal' from '/Users/groundwatercapital/opt/anaconda3/envs/learn-env/lib/python3.6/decimal.py'>,\n",
       " '_decimal': <module '_decimal' from '/Users/groundwatercapital/opt/anaconda3/envs/learn-env/lib/python3.6/lib-dynload/_decimal.cpython-36m-darwin.so'>,\n",
       " 'dateutil.relativedelta': <module 'dateutil.relativedelta' from '/Users/groundwatercapital/opt/anaconda3/envs/learn-env/lib/python3.6/site-packages/dateutil/relativedelta.py'>,\n",
       " 'dateutil._common': <module 'dateutil._common' from '/Users/groundwatercapital/opt/anaconda3/envs/learn-env/lib/python3.6/site-packages/dateutil/_common.py'>,\n",
       " 'dateutil.tz': <module 'dateutil.tz' from '/Users/groundwatercapital/opt/anaconda3/envs/learn-env/lib/python3.6/site-packages/dateutil/tz/__init__.py'>,\n",
       " 'dateutil.tz.tz': <module 'dateutil.tz.tz' from '/Users/groundwatercapital/opt/anaconda3/envs/learn-env/lib/python3.6/site-packages/dateutil/tz/tz.py'>,\n",
       " 'dateutil.tz._common': <module 'dateutil.tz._common' from '/Users/groundwatercapital/opt/anaconda3/envs/learn-env/lib/python3.6/site-packages/dateutil/tz/_common.py'>,\n",
       " 'dateutil.tz._factories': <module 'dateutil.tz._factories' from '/Users/groundwatercapital/opt/anaconda3/envs/learn-env/lib/python3.6/site-packages/dateutil/tz/_factories.py'>,\n",
       " 'dateutil.parser.isoparser': <module 'dateutil.parser.isoparser' from '/Users/groundwatercapital/opt/anaconda3/envs/learn-env/lib/python3.6/site-packages/dateutil/parser/isoparser.py'>,\n",
       " '_strptime': <module '_strptime' from '/Users/groundwatercapital/opt/anaconda3/envs/learn-env/lib/python3.6/_strptime.py'>,\n",
       " 'jupyter_client.adapter': <module 'jupyter_client.adapter' from '/Users/groundwatercapital/opt/anaconda3/envs/learn-env/lib/python3.6/site-packages/jupyter_client/adapter.py'>,\n",
       " 'ipykernel.heartbeat': <module 'ipykernel.heartbeat' from '/Users/groundwatercapital/opt/anaconda3/envs/learn-env/lib/python3.6/site-packages/ipykernel/heartbeat.py'>,\n",
       " 'ipykernel.ipkernel': <module 'ipykernel.ipkernel' from '/Users/groundwatercapital/opt/anaconda3/envs/learn-env/lib/python3.6/site-packages/ipykernel/ipkernel.py'>,\n",
       " 'IPython.utils.tokenutil': <module 'IPython.utils.tokenutil' from '/Users/groundwatercapital/opt/anaconda3/envs/learn-env/lib/python3.6/site-packages/IPython/utils/tokenutil.py'>,\n",
       " 'ipykernel.comm': <module 'ipykernel.comm' from '/Users/groundwatercapital/opt/anaconda3/envs/learn-env/lib/python3.6/site-packages/ipykernel/comm/__init__.py'>,\n",
       " 'ipykernel.comm.manager': <module 'ipykernel.comm.manager' from '/Users/groundwatercapital/opt/anaconda3/envs/learn-env/lib/python3.6/site-packages/ipykernel/comm/manager.py'>,\n",
       " 'ipykernel.comm.comm': <module 'ipykernel.comm.comm' from '/Users/groundwatercapital/opt/anaconda3/envs/learn-env/lib/python3.6/site-packages/ipykernel/comm/comm.py'>,\n",
       " 'ipykernel.kernelbase': <module 'ipykernel.kernelbase' from '/Users/groundwatercapital/opt/anaconda3/envs/learn-env/lib/python3.6/site-packages/ipykernel/kernelbase.py'>,\n",
       " 'tornado.queues': <module 'tornado.queues' from '/Users/groundwatercapital/opt/anaconda3/envs/learn-env/lib/python3.6/site-packages/tornado/queues.py'>,\n",
       " 'tornado.locks': <module 'tornado.locks' from '/Users/groundwatercapital/opt/anaconda3/envs/learn-env/lib/python3.6/site-packages/tornado/locks.py'>,\n",
       " 'ipykernel.jsonutil': <module 'ipykernel.jsonutil' from '/Users/groundwatercapital/opt/anaconda3/envs/learn-env/lib/python3.6/site-packages/ipykernel/jsonutil.py'>,\n",
       " 'ipykernel.zmqshell': <module 'ipykernel.zmqshell' from '/Users/groundwatercapital/opt/anaconda3/envs/learn-env/lib/python3.6/site-packages/ipykernel/zmqshell.py'>,\n",
       " 'IPython.core.payloadpage': <module 'IPython.core.payloadpage' from '/Users/groundwatercapital/opt/anaconda3/envs/learn-env/lib/python3.6/site-packages/IPython/core/payloadpage.py'>,\n",
       " 'ipykernel.displayhook': <module 'ipykernel.displayhook' from '/Users/groundwatercapital/opt/anaconda3/envs/learn-env/lib/python3.6/site-packages/ipykernel/displayhook.py'>,\n",
       " 'ipykernel.parentpoller': <module 'ipykernel.parentpoller' from '/Users/groundwatercapital/opt/anaconda3/envs/learn-env/lib/python3.6/site-packages/ipykernel/parentpoller.py'>,\n",
       " 'faulthandler': <module 'faulthandler' (built-in)>,\n",
       " 'ipykernel.datapub': <module 'ipykernel.datapub' from '/Users/groundwatercapital/opt/anaconda3/envs/learn-env/lib/python3.6/site-packages/ipykernel/datapub.py'>,\n",
       " 'ipykernel.serialize': <module 'ipykernel.serialize' from '/Users/groundwatercapital/opt/anaconda3/envs/learn-env/lib/python3.6/site-packages/ipykernel/serialize.py'>,\n",
       " 'ipykernel.pickleutil': <module 'ipykernel.pickleutil' from '/Users/groundwatercapital/opt/anaconda3/envs/learn-env/lib/python3.6/site-packages/ipykernel/pickleutil.py'>,\n",
       " 'ipykernel.codeutil': <module 'ipykernel.codeutil' from '/Users/groundwatercapital/opt/anaconda3/envs/learn-env/lib/python3.6/site-packages/ipykernel/codeutil.py'>,\n",
       " 'IPython.core.completerlib': <module 'IPython.core.completerlib' from '/Users/groundwatercapital/opt/anaconda3/envs/learn-env/lib/python3.6/site-packages/IPython/core/completerlib.py'>,\n",
       " 'storemagic': <module 'storemagic' from '/Users/groundwatercapital/opt/anaconda3/envs/learn-env/lib/python3.6/site-packages/IPython/extensions/storemagic.py'>,\n",
       " 'jedi.inference.finder': <module 'jedi.inference.finder' from '/Users/groundwatercapital/.vscode/extensions/ms-python.python-2020.9.114305/pythonFiles/lib/python/jedi/inference/finder.py'>,\n",
       " 'jedi.inference.star_args': <module 'jedi.inference.star_args' from '/Users/groundwatercapital/.vscode/extensions/ms-python.python-2020.9.114305/pythonFiles/lib/python/jedi/inference/star_args.py'>,\n",
       " 'pygments.styles.default': <module 'pygments.styles.default' from '/Users/groundwatercapital/opt/anaconda3/envs/learn-env/lib/python3.6/site-packages/pygments/styles/default.py'>}"
      ]
     },
     "metadata": {},
     "execution_count": 18
    }
   ],
   "source": [
    "sys.modules"
   ]
  },
  {
   "cell_type": "code",
   "execution_count": null,
   "metadata": {},
   "outputs": [],
   "source": []
  }
 ]
}