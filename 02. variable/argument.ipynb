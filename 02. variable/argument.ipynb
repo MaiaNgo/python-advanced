{
 "cells": [
  {
   "cell_type": "code",
   "execution_count": 1,
   "metadata": {},
   "outputs": [
    {
     "name": "stdout",
     "output_type": "stream",
     "text": [
      "Hello 140383646906864\n",
      "Before:  Hello 140383646906864\n",
      "After:  HELLO 140383638437552\n",
      "Hello 140383646906864\n"
     ]
    }
   ],
   "source": [
    "# we will examine the effect of mutability on the function arguments\n",
    "a = 'Hello'\n",
    "def to_upper(s):\n",
    "    print('Before: ', s, id(s))\n",
    "    s = s.upper()\n",
    "    print('After: ', s, id(s))\n",
    "\n",
    "print(a, id(a))\n",
    "to_upper(a)\n",
    "print(a, id(a))"
   ]
  },
  {
   "cell_type": "code",
   "execution_count": 2,
   "metadata": {},
   "outputs": [],
   "source": [
    "# We notice that the argument s originally points to same object as a\n",
    "# but after we change s to new value, Python create a new object and point s to it\n",
    "# while the variable a is still the same before and after calling to the func"
   ]
  },
  {
   "cell_type": "code",
   "execution_count": 4,
   "metadata": {},
   "outputs": [
    {
     "name": "stdout",
     "output_type": "stream",
     "text": [
      "([1, 2, 3], 'Hello', ['a', 'b']) 140383627875184\n",
      "Before:  ([1, 2, 3], 'Hello', ['a', 'b']) 140383627875184\n",
      "After:  ([1, 2, 3, 4], 'Hello', ['a', 'b', 'c']) 140383627875184\n",
      "([1, 2, 3, 4], 'Hello', ['a', 'b', 'c']) 140383627875184\n"
     ]
    }
   ],
   "source": [
    "# now we look at a more intesting case with a tuple\n",
    "# we know tuple is an immutable object\n",
    "x = ([1, 2, 3], 'Hello', ['a', 'b'])\n",
    "def change(t):\n",
    "    print('Before: ', t, id(t))\n",
    "    t[0].append(4)\n",
    "    t[1].lower()\n",
    "    t[2].append('c')\n",
    "    print('After: ', t, id(t))\n",
    "\n",
    "print(x, id(x))\n",
    "change(x)\n",
    "print(x, id(x))"
   ]
  },
  {
   "cell_type": "code",
   "execution_count": 5,
   "metadata": {},
   "outputs": [],
   "source": [
    "# we the memory address of the tuple x and argument are always the same\n",
    "# The content of the tuple has change because some of its element has changed\n",
    "# Notice that the second element of the tuple is the string 'Hello' still the same even after we try to change it (because string is immutable)"
   ]
  },
  {
   "cell_type": "code",
   "execution_count": null,
   "metadata": {},
   "outputs": [],
   "source": []
  }
 ],
 "metadata": {
  "interpreter": {
   "hash": "2e16eb9cf582685a2069fbd1d69b094b0e503fcb31a60a6324e750c4274a81af"
  },
  "kernelspec": {
   "display_name": "Python 3.6.9 64-bit ('learn-env': conda)",
   "language": "python",
   "name": "python3"
  },
  "language_info": {
   "codemirror_mode": {
    "name": "ipython",
    "version": 3
   },
   "file_extension": ".py",
   "mimetype": "text/x-python",
   "name": "python",
   "nbconvert_exporter": "python",
   "pygments_lexer": "ipython3",
   "version": "3.7.4"
  },
  "orig_nbformat": 2
 },
 "nbformat": 4,
 "nbformat_minor": 2
}
