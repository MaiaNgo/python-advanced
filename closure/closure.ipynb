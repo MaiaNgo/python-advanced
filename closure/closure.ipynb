{
 "metadata": {
  "language_info": {
   "codemirror_mode": {
    "name": "ipython",
    "version": 3
   },
   "file_extension": ".py",
   "mimetype": "text/x-python",
   "name": "python",
   "nbconvert_exporter": "python",
   "pygments_lexer": "ipython3",
   "version": "3.6.9-final"
  },
  "orig_nbformat": 2,
  "kernelspec": {
   "name": "python3",
   "display_name": "Python 3.6.9 64-bit ('learn-env': conda)",
   "metadata": {
    "interpreter": {
     "hash": "7981d81b3924aa8f8737ad1f515d2c1560025393c5e8fb9a51b730ca6a994a8e"
    }
   }
  }
 },
 "nbformat": 4,
 "nbformat_minor": 2,
 "cells": [
  {
   "source": [
    "## Closure"
   ],
   "cell_type": "markdown",
   "metadata": {}
  },
  {
   "cell_type": "code",
   "execution_count": 3,
   "metadata": {},
   "outputs": [],
   "source": [
    "# to understand closure we must understand scope \n",
    "# let's define a simple nested function\n",
    "def greet():\n",
    "    name = 'World!'\n",
    "\n",
    "    def sayHello():\n",
    "        print(f'Hello {name}')\n",
    "\n",
    "    # first call\n",
    "    sayHello()\n",
    "\n",
    "    # second call after change variable value\n",
    "    name = 'Ryan'\n",
    "    sayHello()\n",
    "\n",
    "    # third call after change variable value again\n",
    "    name = 'Maia'\n",
    "    sayHello()\n",
    "\n",
    "    return sayHello    "
   ]
  },
  {
   "cell_type": "code",
   "execution_count": 4,
   "metadata": {},
   "outputs": [
    {
     "output_type": "stream",
     "name": "stdout",
     "text": [
      "Hello World!\nHello Ryan\nHello Maia\n"
     ]
    }
   ],
   "source": [
    "fn = greet()"
   ]
  },
  {
   "cell_type": "code",
   "execution_count": 5,
   "metadata": {},
   "outputs": [
    {
     "output_type": "stream",
     "name": "stdout",
     "text": [
      "Hello Maia\n"
     ]
    }
   ],
   "source": [
    "# now the greet() function call has done, all its local variables are gone\n",
    "# what happens if we can fn()\n",
    "fn()"
   ]
  },
  {
   "cell_type": "code",
   "execution_count": 8,
   "metadata": {},
   "outputs": [],
   "source": [
    "# how fn() still remember the last value of variable 'name'?\n",
    "\n",
    "# it is because when greet() function returned the function sayHello(), it actually returned a closure, not just the function only\n",
    "# So, what is closure?\n",
    "# Closure is a function plus an extended scopre that contains free variables the function refer to\n",
    "# In this case, the closure contains the sayHello() function plus variable 'name' "
   ]
  }
 ]
}