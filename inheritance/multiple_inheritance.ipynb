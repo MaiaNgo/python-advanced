{
 "metadata": {
  "language_info": {
   "codemirror_mode": {
    "name": "ipython",
    "version": 3
   },
   "file_extension": ".py",
   "mimetype": "text/x-python",
   "name": "python",
   "nbconvert_exporter": "python",
   "pygments_lexer": "ipython3",
   "version": "3.6.9-final"
  },
  "orig_nbformat": 2,
  "kernelspec": {
   "name": "python3",
   "display_name": "Python 3"
  }
 },
 "nbformat": 4,
 "nbformat_minor": 2,
 "cells": [
  {
   "source": [
    "## Multiple Inheritance"
   ],
   "cell_type": "markdown",
   "metadata": {}
  },
  {
   "cell_type": "code",
   "execution_count": 1,
   "metadata": {},
   "outputs": [],
   "source": [
    "# simple multiple inheritance\n",
    "class Base1:\n",
    "    pass\n",
    "\n",
    "class Base2:\n",
    "    pass\n",
    "\n",
    "class Child(Base1, Base2):\n",
    "    pass"
   ]
  },
  {
   "cell_type": "code",
   "execution_count": 3,
   "metadata": {},
   "outputs": [
    {
     "output_type": "execute_result",
     "data": {
      "text/plain": [
       "True"
      ]
     },
     "metadata": {},
     "execution_count": 3
    }
   ],
   "source": [
    "# check if Child is a subclass of Base1\n",
    "issubclass(Child, Base1)"
   ]
  },
  {
   "cell_type": "code",
   "execution_count": 4,
   "metadata": {},
   "outputs": [
    {
     "output_type": "execute_result",
     "data": {
      "text/plain": [
       "True"
      ]
     },
     "metadata": {},
     "execution_count": 4
    }
   ],
   "source": [
    "# check if Child is a subclass of Base2\n",
    "issubclass(Child, Base2)"
   ]
  },
  {
   "cell_type": "code",
   "execution_count": 5,
   "metadata": {},
   "outputs": [],
   "source": [
    "# define a simple attribute and method from base class to see how it works\n",
    "class Walkable:\n",
    "    def walk():\n",
    "        print('I can walk')\n",
    "\n",
    "class Runable:\n",
    "    def run():\n",
    "        print('I can run')\n",
    "\n",
    "class Swimable:\n",
    "    def swim():\n",
    "        print('I can swim')\n",
    "\n",
    "class Pythonable:\n",
    "    def python():\n",
    "        print('I can code in Python')\n",
    "\n",
    "class Fish(Swimable):\n",
    "    pass\n",
    "\n",
    "class Dog(Walkable, Runable, Swimable):\n",
    "    pass\n",
    "\n",
    "class Programmer(Walkable, Runable, Swimable, Pythonable):\n",
    "    pass"
   ]
  },
  {
   "cell_type": "code",
   "execution_count": 10,
   "metadata": {},
   "outputs": [
    {
     "output_type": "stream",
     "name": "stdout",
     "text": [
      "I can swim\n"
     ]
    }
   ],
   "source": [
    "# check inheritance\n",
    "Fish.swim()"
   ]
  },
  {
   "cell_type": "code",
   "execution_count": 15,
   "metadata": {},
   "outputs": [
    {
     "output_type": "stream",
     "name": "stdout",
     "text": [
      "I can swim\nI can run\nI can walk\n"
     ]
    }
   ],
   "source": [
    "# check Dog\n",
    "Dog.swim()\n",
    "Dog.run()\n",
    "Dog.walk()"
   ]
  },
  {
   "cell_type": "code",
   "execution_count": 12,
   "metadata": {},
   "outputs": [
    {
     "output_type": "stream",
     "name": "stdout",
     "text": [
      "I can swim\nI can run\nI can walk\nI can code in Python\n"
     ]
    }
   ],
   "source": [
    "# check Programmer\n",
    "Programmer.swim()\n",
    "Programmer.run()\n",
    "Programmer.walk()\n",
    "Programmer.python()"
   ]
  },
  {
   "cell_type": "code",
   "execution_count": null,
   "metadata": {},
   "outputs": [],
   "source": []
  }
 ]
}