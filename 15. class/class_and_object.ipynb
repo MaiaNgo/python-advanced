{
 "metadata": {
  "language_info": {
   "codemirror_mode": {
    "name": "ipython",
    "version": 3
   },
   "file_extension": ".py",
   "mimetype": "text/x-python",
   "name": "python",
   "nbconvert_exporter": "python",
   "pygments_lexer": "ipython3",
   "version": "3.6.9-final"
  },
  "orig_nbformat": 2,
  "kernelspec": {
   "name": "python3",
   "display_name": "Python 3.6.9 64-bit ('learn-env': conda)",
   "metadata": {
    "interpreter": {
     "hash": "7981d81b3924aa8f8737ad1f515d2c1560025393c5e8fb9a51b730ca6a994a8e"
    }
   }
  }
 },
 "nbformat": 4,
 "nbformat_minor": 2,
 "cells": [
  {
   "cell_type": "code",
   "execution_count": 1,
   "metadata": {},
   "outputs": [],
   "source": [
    "# what is an object?\n",
    "# it is like a container that has data and action\n",
    "# its data are normally called state or attributes\n",
    "# its action are normally called behavior or methods\n",
    "# \n",
    "# So how do we create objects? We define class. Classes are template or blueprint of objects.\n",
    "# \n",
    "# Let's create the simplest class and object in the world\n",
    "# \n",
    "class DummyClass:\n",
    "    pass"
   ]
  },
  {
   "cell_type": "code",
   "execution_count": 2,
   "metadata": {},
   "outputs": [
    {
     "output_type": "execute_result",
     "data": {
      "text/plain": [
       "type"
      ]
     },
     "metadata": {},
     "execution_count": 2
    }
   ],
   "source": [
    "# Even this is an empty class, it has all the basic charateristic of any class\n",
    "# class is just an object like everything in Python are objects\n",
    "# let's examine some basic info about this class\n",
    "\n",
    "# it is an object with type of 'type'\n",
    "type(DummyClass)"
   ]
  },
  {
   "cell_type": "code",
   "execution_count": 3,
   "metadata": {},
   "outputs": [
    {
     "output_type": "execute_result",
     "data": {
      "text/plain": [
       "'DummyClass'"
      ]
     },
     "metadata": {},
     "execution_count": 3
    }
   ],
   "source": [
    "# Python creates some basic attributes (data) and methods (action) for it\n",
    "DummyClass.__name__"
   ]
  },
  {
   "cell_type": "code",
   "execution_count": 5,
   "metadata": {},
   "outputs": [
    {
     "output_type": "execute_result",
     "data": {
      "text/plain": [
       "mappingproxy({'__module__': '__main__',\n",
       "              '__dict__': <attribute '__dict__' of 'DummyClass' objects>,\n",
       "              '__weakref__': <attribute '__weakref__' of 'DummyClass' objects>,\n",
       "              '__doc__': None})"
      ]
     },
     "metadata": {},
     "execution_count": 5
    }
   ],
   "source": [
    "DummyClass.__dict__"
   ]
  },
  {
   "cell_type": "code",
   "execution_count": 6,
   "metadata": {},
   "outputs": [
    {
     "output_type": "execute_result",
     "data": {
      "text/plain": [
       "__main__.DummyClass"
      ]
     },
     "metadata": {},
     "execution_count": 6
    }
   ],
   "source": [
    "# we can call it like a function to create (instanciate) an object from this class\n",
    "dummyObject = DummyClass()\n",
    "type(dummyObject)"
   ]
  },
  {
   "cell_type": "code",
   "execution_count": 7,
   "metadata": {},
   "outputs": [
    {
     "output_type": "execute_result",
     "data": {
      "text/plain": [
       "True"
      ]
     },
     "metadata": {},
     "execution_count": 7
    }
   ],
   "source": [
    "# we can check if a object is an instance of a class or not by using isinstance() function\n",
    "isinstance(dummyObject, DummyClass)"
   ]
  },
  {
   "cell_type": "code",
   "execution_count": 9,
   "metadata": {},
   "outputs": [],
   "source": [
    "# Let's create a class with some data (attributes)\n",
    "# Notice that this class's attributes, not class's instances' attributes\n",
    "# Because class itself is an object (that has type of type)\n",
    "# it is basically just an object like any other objects which has atributtes itself too\n",
    "\n",
    "class MyClass:\n",
    "    language = 'Python'\n",
    "    version = '3.7'"
   ]
  },
  {
   "cell_type": "code",
   "execution_count": 10,
   "metadata": {},
   "outputs": [
    {
     "output_type": "execute_result",
     "data": {
      "text/plain": [
       "'Python'"
      ]
     },
     "metadata": {},
     "execution_count": 10
    }
   ],
   "source": [
    "# we can get these attributes by using function getattr()\n",
    "getattr(MyClass, 'language')"
   ]
  },
  {
   "cell_type": "code",
   "execution_count": 11,
   "metadata": {},
   "outputs": [
    {
     "output_type": "execute_result",
     "data": {
      "text/plain": [
       "'Not Found'"
      ]
     },
     "metadata": {},
     "execution_count": 11
    }
   ],
   "source": [
    "# get an attribute that doesn't exist will raise error unless we provide a default value to return in that case\n",
    "getattr(MyClass, 'not_exist', 'Not Found')"
   ]
  },
  {
   "cell_type": "code",
   "execution_count": 12,
   "metadata": {},
   "outputs": [
    {
     "output_type": "execute_result",
     "data": {
      "text/plain": [
       "'Python'"
      ]
     },
     "metadata": {},
     "execution_count": 12
    }
   ],
   "source": [
    "# it is much simpler to use dot notation to access attributes than using getattr() function\n",
    "MyClass.language"
   ]
  },
  {
   "cell_type": "code",
   "execution_count": 13,
   "metadata": {},
   "outputs": [
    {
     "output_type": "execute_result",
     "data": {
      "text/plain": [
       "'3.7'"
      ]
     },
     "metadata": {},
     "execution_count": 13
    }
   ],
   "source": [
    "MyClass.version"
   ]
  },
  {
   "cell_type": "code",
   "execution_count": 16,
   "metadata": {},
   "outputs": [
    {
     "output_type": "execute_result",
     "data": {
      "text/plain": [
       "'3.9'"
      ]
     },
     "metadata": {},
     "execution_count": 16
    }
   ],
   "source": [
    "# similarly we can use setattr() function or the dot notation to set attributes\n",
    "setattr(MyClass, 'version', '3.9')\n",
    "getattr(MyClass, 'version')"
   ]
  },
  {
   "cell_type": "code",
   "execution_count": 17,
   "metadata": {},
   "outputs": [
    {
     "output_type": "execute_result",
     "data": {
      "text/plain": [
       "'3.8'"
      ]
     },
     "metadata": {},
     "execution_count": 17
    }
   ],
   "source": [
    "# or, we can also use the dot notion\n",
    "MyClass.version = '3.8'\n",
    "MyClass.version"
   ]
  },
  {
   "cell_type": "code",
   "execution_count": 18,
   "metadata": {},
   "outputs": [
    {
     "output_type": "execute_result",
     "data": {
      "text/plain": [
       "'I just added this'"
      ]
     },
     "metadata": {},
     "execution_count": 18
    }
   ],
   "source": [
    "# We can use same technique to dynamically add new attributes to the class\n",
    "MyClass.this_is_new_attr = 'I just added this'\n",
    "MyClass.this_is_new_attr"
   ]
  },
  {
   "cell_type": "code",
   "execution_count": 20,
   "metadata": {},
   "outputs": [
    {
     "output_type": "execute_result",
     "data": {
      "text/plain": [
       "mappingproxy({'__module__': '__main__',\n",
       "              'language': 'Python',\n",
       "              'version': '3.8',\n",
       "              '__dict__': <attribute '__dict__' of 'MyClass' objects>,\n",
       "              '__weakref__': <attribute '__weakref__' of 'MyClass' objects>,\n",
       "              '__doc__': None,\n",
       "              'this_is_new_attr': 'I just added this'})"
      ]
     },
     "metadata": {},
     "execution_count": 20
    }
   ],
   "source": [
    "# where are these attribues store\n",
    "MyClass.__dict__"
   ]
  },
  {
   "cell_type": "code",
   "execution_count": 21,
   "metadata": {},
   "outputs": [
    {
     "output_type": "execute_result",
     "data": {
      "text/plain": [
       "mappingproxy({'__module__': '__main__',\n",
       "              'language': 'Python',\n",
       "              'version': '3.8',\n",
       "              '__dict__': <attribute '__dict__' of 'MyClass' objects>,\n",
       "              '__weakref__': <attribute '__weakref__' of 'MyClass' objects>,\n",
       "              '__doc__': None})"
      ]
     },
     "metadata": {},
     "execution_count": 21
    }
   ],
   "source": [
    "# we can also delete an attribute from class using delattr() function or del keyword\n",
    "delattr(MyClass, 'this_is_new_attr')\n",
    "MyClass.__dict__"
   ]
  },
  {
   "cell_type": "code",
   "execution_count": null,
   "metadata": {},
   "outputs": [],
   "source": []
  }
 ]
}